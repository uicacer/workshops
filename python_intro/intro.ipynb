{
 "cells": [
  {
   "cell_type": "markdown",
   "metadata": {},
   "source": [
    "# Introduction to Python\n",
    "\n",
    "Welcome to UIC ACER's Introduction to Python! \n",
    "This course introduces you Python by working through common tasks in data science: \n",
    "importing, manipulating, and exporting data.\n",
    "\n",
    "Before proceeding with these training materials, \n",
    "please ensure you have access to [Open OnDemand](https://ood.acer.uic.edu) or have locally installed Python and Jupyter notebooks via Anaconda as described \n",
    "[here](http://www.fredhutch.io/software/#python-jupyter-notebooks).\n",
    "\n",
    "This tutorial is adapted from the [Fred Hutch Introduction to Python](https://github.com/fredhutchio/python_intro/) and the [Data Carpentry Python for Ecologists](https://datacarpentry.org/python-ecology-lesson/) materials."
   ]
  },
  {
   "cell_type": "markdown",
   "metadata": {},
   "source": [
    "## Learning Objectives\n",
    "\n",
    "By the end of this tutorial, you should be able to:\n",
    "\n",
    "- work in a Jupyter notebook to run and record Python code\n",
    "- understand basic Python syntax to use functions and assign variables\n",
    "- create lists\n",
    "- use for-loops\n",
    "- define functions\n",
    "- load packages and spreadsheet-style data using Python\n",
    "- extract columns, rows, and portions thereof from datasets\n",
    "- calculate summary statistics\n",
    "- subset data by identifying rows that meet particular conditions\n",
    "- group data to summarize by category\n",
    "- accommodate missing data\n",
    "- export data using pandas"
   ]
  },
  {
   "cell_type": "markdown",
   "metadata": {},
   "source": [
    "## A brief orientation to Python and Jupyter notebooks\n",
    "\n",
    "Python is a commonly used programming language among researchers,\n",
    "and has a large community and set of tools available to support its use.\n",
    "As a result, there are many different ways to interact with Python,\n",
    "the choice of which depends on your specific need for coding.\n",
    "In this class, we'll be using [Jupyter notebooks](https://jupyter.readthedocs.io/en/latest/) \n",
    "to write, run, and maintain a record of our work.\n",
    "\n",
    "A Jupyter notebook is an interface operated in a web browser \n",
    "that allows inclusion of code, output (including graphics) and explanatory text\n",
    "all in the same document. \n",
    "In fact, these lesson materials are written in a Jupyter notebook.\n",
    "Jupyter notebooks can also be used as a method of communicating research methods."
   ]
  },
  {
   "cell_type": "markdown",
   "metadata": {},
   "source": [
    "### Creating a new Jupyter notebook\n",
    "\n",
    "You can access Jupyter notebooks through Anaconda,\n",
    "which is the software you used to install Python as well.\n",
    "Anaconda is a version of conda, a package manager that helps you install and update software.\n",
    "\n",
    "Open the Anaconda Navigator software on your computer, \n",
    "then click on Jupyter Notebook \n",
    "(note that this is different than Jupyter Lab!).\n",
    "\n",
    "You'll see your default web browser open a new tab.\n",
    "On a Mac, you may also see a Terminal window open;\n",
    "this window needs to stay open for Python to run,\n",
    "but we recommend you minimize it so it stays out of the way.\n",
    "\n",
    "In the Jupyter notebook window in your web browser,\n",
    "note the URL at the top: \n",
    "it should start with something like `http://localhost:8888/tree`.\n",
    "In the browser window, you should see folders like \"Documents\" and \"Desktop.\"\n",
    "This window represents a different way to interact with the files on your computer.\n",
    "Although you're viewing these files in a web browser,\n",
    "you're not necessarily working with files online.\n",
    "\n",
    "We're going to create a project directory for the purposes of this course. \n",
    "You can think of a project as a discrete unit of work, \n",
    "such as a chapter of a thesis/dissertation, analysis for a manuscript, or a monthly report. \n",
    "We recommend organizing your code, data, and other associated files as projects, \n",
    "which allows you to keep all parts of an analysis together for easier access.\n",
    "\n",
    "Create a new project for this class using the Jupyter notebook file browser:\n",
    "\n",
    "- Navigate to the location in your computer where you'd like to save files for this class (we recommend Desktop or Documents).\n",
    "- Click \"New\" in the upper right hand corner of the screen, then \"Folder\". This will create a new folder named \"Untitled Folder\".\n",
    "- Click the box next to \"Untitled Folder\", then select \"Rename\" near the upper left corner of the screen. Name the new directory \"intro_python\"; we'll now refer to this as your project directory.\n",
    "- Click on the new folder to view its contents (it should be empty).\n",
    "- Click \"New\" in upper right hand corner of the window, then select \"Python3\". This creates a new ipython notebook file and opens it in a new tab. Click on the title of the notebook to rename the file \"intro\". If you click on the browser tab for the file browser, you can also rename as for the folder earlier. You'll note this filename has a suffix of `ipynb`."
   ]
  },
  {
   "cell_type": "markdown",
   "metadata": {},
   "source": [
    "### Executing code in a Jupyter notebook\n",
    "\n",
    "Now that we have a new project and an empty notebook set up, we can begin orienting ourselves to how notebooks work to hold our text, code, and output.\n",
    "\n",
    "The pale gray box you see at the top of your screen with `In [ ]` to the left is a cell.\n",
    "By default, each cell is created as a code cell.\n",
    "Because our notebook is Python 3, \n",
    "our code cells are able to execute Python code.\n",
    "We can test this out by entering `3 + 4` into the cell,\n",
    "then holding down the Shift key and pressing Enter/Return.\n",
    "This executes (runs) the code in the cell and prints the output below,\n",
    "prefaced by `Out[ ]`.\n",
    "Executing the code this way also creates a new cell below the one you executed.\n",
    "If a new cell doesn't appear,\n",
    "you can add one using the `+` button in the toolbar at the top of the screen. \n",
    "\n",
    "Cells can also be used to enter text using [Markdown formatting](https://www.markdownguide.org/basic-syntax/).\n",
    "Change the type of your new cell by going to the dropdown box in the tool bar at the top of the window and changing \"Code\" to \"Markdown.\" \n",
    "Add a subtitle in this cell by entering `## Operators, functions, and data types`,\n",
    "then using Shift + Enter to execute the cell,\n",
    "which formats the text as large and bold.\n",
    "The link above includes more information about Markdown formatting,\n",
    "but we'll generally use only plain text and subtitles for this course.\n",
    "\n",
    "Jupyter notebooks include many other features, \n",
    "which you can explore in the toolbar and dropdown menus at the top of the screen. \n",
    "Additional keyboard shortcuts are also available under Help -> Keyboard Shortcuts."
   ]
  },
  {
   "cell_type": "markdown",
   "metadata": {},
   "source": [
    "# Functions and variables"
   ]
  },
  {
   "cell_type": "markdown",
   "metadata": {},
   "source": [
    "## Operators, functions, and data types"
   ]
  },
  {
   "cell_type": "markdown",
   "metadata": {},
   "source": [
    "Now that we have a notebook created, \n",
    "as well as a basic understanding of how to write and execute code, \n",
    "we can begin learning more about Python syntax,\n",
    "which are rules that dictate how combinations of words and symbols are interpreted in a language."
   ]
  },
  {
   "cell_type": "code",
   "execution_count": 1,
   "metadata": {},
   "outputs": [
    {
     "data": {
      "text/plain": [
       "5"
      ]
     },
     "execution_count": 1,
     "metadata": {},
     "output_type": "execute_result"
    }
   ],
   "source": [
    "# addition\n",
    "3 + 2"
   ]
  },
  {
   "cell_type": "markdown",
   "metadata": {},
   "source": [
    "The first line in the example above is a code comment. \n",
    "It is not interpreted by Python, but is a human-readable explanation of the code that follows. \n",
    "In Python, anything to the right of one or more `#` symbols represents a comment.\n",
    "\n",
    "> Syntax differs among language.\n",
    "> So far in this lesson, \n",
    "> we've learned that Markdown interprets `#` as a way of formatting titles and subtitles, \n",
    "> while in Python the same symbol represents a code comment.\n",
    "\n",
    "As we proceed through these lessons, \n",
    "we recommend trying to type the example code so it appears as similar as possible to what is presented here.\n",
    "From the example above,\n",
    "you may now be wondering if the spaces on either side of the `+` are required.\n",
    "We can test this for ourselves:"
   ]
  },
  {
   "cell_type": "code",
   "execution_count": 2,
   "metadata": {},
   "outputs": [
    {
     "data": {
      "text/plain": [
       "5"
      ]
     },
     "execution_count": 2,
     "metadata": {},
     "output_type": "execute_result"
    }
   ],
   "source": [
    "# addition without spaces, same result\n",
    "3+2"
   ]
  },
  {
   "cell_type": "markdown",
   "metadata": {},
   "source": [
    "The code above indicates that the spaces are not required, \n",
    "but are convention. \n",
    "Code convention and style doesn’t make or break the ability of your code to run, \n",
    "but it does affect whether other people can easily understand your code. \n",
    "We'll try to model appropriate code convention for this course,\n",
    "and you can read more about Python formatting recommendations [here](https://www.python.org/dev/peps/pep-0008/#id26).\n",
    "\n",
    "Here are other arithmetic operators in Python:"
   ]
  },
  {
   "cell_type": "code",
   "execution_count": 3,
   "metadata": {},
   "outputs": [
    {
     "data": {
      "text/plain": [
       "1"
      ]
     },
     "execution_count": 3,
     "metadata": {},
     "output_type": "execute_result"
    }
   ],
   "source": [
    "# subtraction\n",
    "3 - 2"
   ]
  },
  {
   "cell_type": "code",
   "execution_count": 4,
   "metadata": {},
   "outputs": [
    {
     "data": {
      "text/plain": [
       "6"
      ]
     },
     "execution_count": 4,
     "metadata": {},
     "output_type": "execute_result"
    }
   ],
   "source": [
    "# multiplication\n",
    "3 * 2"
   ]
  },
  {
   "cell_type": "code",
   "execution_count": 5,
   "metadata": {},
   "outputs": [
    {
     "data": {
      "text/plain": [
       "1.5"
      ]
     },
     "execution_count": 5,
     "metadata": {},
     "output_type": "execute_result"
    }
   ],
   "source": [
    "# division\n",
    "3 / 2"
   ]
  },
  {
   "cell_type": "code",
   "execution_count": 6,
   "metadata": {},
   "outputs": [
    {
     "data": {
      "text/plain": [
       "9"
      ]
     },
     "execution_count": 6,
     "metadata": {},
     "output_type": "execute_result"
    }
   ],
   "source": [
    "# exponentiation\n",
    "3 ** 2"
   ]
  },
  {
   "cell_type": "code",
   "execution_count": 7,
   "metadata": {},
   "outputs": [
    {
     "data": {
      "text/plain": [
       "1"
      ]
     },
     "execution_count": 7,
     "metadata": {},
     "output_type": "execute_result"
    }
   ],
   "source": [
    "# modulus (remainder)\n",
    "3 % 2"
   ]
  },
  {
   "cell_type": "markdown",
   "metadata": {},
   "source": [
    "We can also use logical operators to evaluate whether a given statement is true or false:"
   ]
  },
  {
   "cell_type": "code",
   "execution_count": 8,
   "metadata": {},
   "outputs": [
    {
     "data": {
      "text/plain": [
       "False"
      ]
     },
     "execution_count": 8,
     "metadata": {},
     "output_type": "execute_result"
    }
   ],
   "source": [
    "# greater than\n",
    "3 > 4 "
   ]
  },
  {
   "cell_type": "code",
   "execution_count": 9,
   "metadata": {},
   "outputs": [
    {
     "data": {
      "text/plain": [
       "True"
      ]
     },
     "execution_count": 9,
     "metadata": {},
     "output_type": "execute_result"
    }
   ],
   "source": [
    "# less than\n",
    "3 < 4"
   ]
  },
  {
   "cell_type": "code",
   "execution_count": 10,
   "metadata": {},
   "outputs": [
    {
     "data": {
      "text/plain": [
       "False"
      ]
     },
     "execution_count": 10,
     "metadata": {},
     "output_type": "execute_result"
    }
   ],
   "source": [
    "# equal to\n",
    "3 == 4"
   ]
  },
  {
   "cell_type": "code",
   "execution_count": 11,
   "metadata": {},
   "outputs": [
    {
     "data": {
      "text/plain": [
       "True"
      ]
     },
     "execution_count": 11,
     "metadata": {},
     "output_type": "execute_result"
    }
   ],
   "source": [
    "# less than or equal to\n",
    "3 <= 4"
   ]
  },
  {
   "cell_type": "markdown",
   "metadata": {},
   "source": [
    "We can also store values into variables. Like in math, \n",
    "a variable is a word used to represent data, which can be a single value or more complex collections:"
   ]
  },
  {
   "cell_type": "code",
   "execution_count": 12,
   "metadata": {},
   "outputs": [],
   "source": [
    "# storing values in variables\n",
    "pi = 3.1415"
   ]
  },
  {
   "cell_type": "markdown",
   "metadata": {},
   "source": [
    "We can then use the variable like any other number:"
   ]
  },
  {
   "cell_type": "code",
   "execution_count": 13,
   "metadata": {},
   "outputs": [
    {
     "data": {
      "text/plain": [
       "6.283"
      ]
     },
     "execution_count": 13,
     "metadata": {},
     "output_type": "execute_result"
    }
   ],
   "source": [
    "pi * 2"
   ]
  },
  {
   "cell_type": "code",
   "execution_count": 14,
   "metadata": {},
   "outputs": [
    {
     "data": {
      "text/plain": [
       "10.0"
      ]
     },
     "execution_count": 14,
     "metadata": {},
     "output_type": "execute_result"
    }
   ],
   "source": [
    "# storing multiple variables\n",
    "weight_kg = 22\n",
    "weight_lb = weight_kg / 2.2\n",
    "weight_lb"
   ]
  },
  {
   "cell_type": "markdown",
   "metadata": {},
   "source": [
    "We defined `weight_lb` using `weight_kg` above. Note however that if we update `weight_kg`, the value of `weight_lb` will not automatically change. `weight_lb` depends only on the value of `weight_kg` *when `weight_lb` was defined*:"
   ]
  },
  {
   "cell_type": "code",
   "execution_count": 15,
   "metadata": {},
   "outputs": [
    {
     "data": {
      "text/plain": [
       "10.0"
      ]
     },
     "execution_count": 15,
     "metadata": {},
     "output_type": "execute_result"
    }
   ],
   "source": [
    "# updating weight_kg does not automatically update weight_lb\n",
    "weight_kg = 38.5\n",
    "weight_lb"
   ]
  },
  {
   "cell_type": "markdown",
   "metadata": {},
   "source": [
    "We need to redefine `weight_lb` if we want to update it:"
   ]
  },
  {
   "cell_type": "code",
   "execution_count": 16,
   "metadata": {},
   "outputs": [
    {
     "data": {
      "text/plain": [
       "17.5"
      ]
     },
     "execution_count": 16,
     "metadata": {},
     "output_type": "execute_result"
    }
   ],
   "source": [
    "# redefine weight_lb\n",
    "weight_lb = weight_kg / 2.2\n",
    "weight_lb"
   ]
  },
  {
   "cell_type": "markdown",
   "metadata": {},
   "source": [
    "Python also includes functions for other types of math. Functions are called by writing the function name and then the argument surrounded by parentheses:"
   ]
  },
  {
   "cell_type": "code",
   "execution_count": 17,
   "metadata": {},
   "outputs": [
    {
     "data": {
      "text/plain": [
       "3"
      ]
     },
     "execution_count": 17,
     "metadata": {},
     "output_type": "execute_result"
    }
   ],
   "source": [
    "# round pi to a whole number\n",
    "round(pi)"
   ]
  },
  {
   "cell_type": "markdown",
   "metadata": {},
   "source": [
    "Functions can take more than one argument, in which case the arguments are separated by commas: "
   ]
  },
  {
   "cell_type": "code",
   "execution_count": 18,
   "metadata": {},
   "outputs": [
    {
     "data": {
      "text/plain": [
       "3.1"
      ]
     },
     "execution_count": 18,
     "metadata": {},
     "output_type": "execute_result"
    }
   ],
   "source": [
    "# pass a second argument for the number of digits to round to\n",
    "round(pi, 1)"
   ]
  },
  {
   "cell_type": "markdown",
   "metadata": {},
   "source": [
    "Arguments can also be named, which may increase clarity if the purpose of the argument isn't obvious, or be necessary if there are many arguments:"
   ]
  },
  {
   "cell_type": "code",
   "execution_count": 19,
   "metadata": {},
   "outputs": [
    {
     "data": {
      "text/plain": [
       "3.1"
      ]
     },
     "execution_count": 19,
     "metadata": {},
     "output_type": "execute_result"
    }
   ],
   "source": [
    "# use a named argument for the number of digits\n",
    "round(pi, ndigits=1)"
   ]
  },
  {
   "cell_type": "markdown",
   "metadata": {},
   "source": [
    "If you would like to find help on a function, \n",
    "there's a function for that:"
   ]
  },
  {
   "cell_type": "code",
   "execution_count": 20,
   "metadata": {},
   "outputs": [
    {
     "name": "stdout",
     "output_type": "stream",
     "text": [
      "Help on built-in function round in module builtins:\n",
      "\n",
      "round(number, ndigits=None)\n",
      "    Round a number to a given precision in decimal digits.\n",
      "    \n",
      "    The return value is an integer if ndigits is omitted or None.  Otherwise\n",
      "    the return value has the same type as the number.  ndigits may be negative.\n",
      "\n"
     ]
    }
   ],
   "source": [
    "# find help on a function\n",
    "help(round)"
   ]
  },
  {
   "cell_type": "markdown",
   "metadata": {},
   "source": [
    "Python possesses several built-in data types:"
   ]
  },
  {
   "cell_type": "code",
   "execution_count": 21,
   "metadata": {},
   "outputs": [],
   "source": [
    "# data types in python\n",
    "integer = 42 # integer\n",
    "real = 3.1415 # float\n",
    "text = \"UIC ACER\" # string"
   ]
  },
  {
   "cell_type": "markdown",
   "metadata": {},
   "source": [
    "Notebooks allow you a handy shortcut to view the contents of a variable by executing only the variable name:"
   ]
  },
  {
   "cell_type": "code",
   "execution_count": 22,
   "metadata": {},
   "outputs": [
    {
     "data": {
      "text/plain": [
       "'UIC ACER'"
      ]
     },
     "execution_count": 22,
     "metadata": {},
     "output_type": "execute_result"
    }
   ],
   "source": [
    "text"
   ]
  },
  {
   "cell_type": "markdown",
   "metadata": {},
   "source": [
    "This approach will work well enough for us in this class,\n",
    "since we'll be using notebooks the whole time.\n",
    "If you are using code written by other people, \n",
    "or begin writing code in scripts (outside notebooks),\n",
    "you'll often see the `print` function used:"
   ]
  },
  {
   "cell_type": "code",
   "execution_count": 23,
   "metadata": {},
   "outputs": [
    {
     "name": "stdout",
     "output_type": "stream",
     "text": [
      "UIC ACER\n"
     ]
    }
   ],
   "source": [
    "# print output to screen\n",
    "print(text)"
   ]
  },
  {
   "cell_type": "markdown",
   "metadata": {},
   "source": [
    "The data output are the same for each of the two previous code cells,\n",
    "though they look slightly different.\n",
    "It's useful to note that the notebook will only print the result of the last command executed in a code cell,\n",
    "so if there are is other output in the cell you'd like to see, \n",
    "you may need to use the `print` function then as well."
   ]
  },
  {
   "cell_type": "markdown",
   "metadata": {},
   "source": [
    "## Sequences"
   ]
  },
  {
   "cell_type": "markdown",
   "metadata": {},
   "source": [
    "So far we've been working with variables containing a single value.\n",
    "It's often the case that we would like to use a variable to reference collections of values.\n",
    "Sequences are a data structure which hold collections of elements.\n",
    "Lists are one type of sequence,\n",
    "and are defined in Python using square brackets:"
   ]
  },
  {
   "cell_type": "code",
   "execution_count": 24,
   "metadata": {},
   "outputs": [
    {
     "data": {
      "text/plain": [
       "[1, 2, 3, 4, 5, 6]"
      ]
     },
     "execution_count": 24,
     "metadata": {},
     "output_type": "execute_result"
    }
   ],
   "source": [
    "# assign a list to a variable\n",
    "numbers = [1, 2, 3, 4, 5, 6]\n",
    "numbers"
   ]
  },
  {
   "cell_type": "markdown",
   "metadata": {},
   "source": [
    "Now that we've created a list,\n",
    "we can access different portions of it:"
   ]
  },
  {
   "cell_type": "code",
   "execution_count": 25,
   "metadata": {},
   "outputs": [
    {
     "data": {
      "text/plain": [
       "1"
      ]
     },
     "execution_count": 25,
     "metadata": {},
     "output_type": "execute_result"
    }
   ],
   "source": [
    "# access first element in list\n",
    "numbers[0] "
   ]
  },
  {
   "cell_type": "markdown",
   "metadata": {},
   "source": [
    "The number in the square brackets above indicates the position, or index, of the element we are accessing.\n",
    "Python begins indexing (counting) at 0,\n",
    "so the index positions in `numbers` are `0`, `1`, `2`, `3`, `4`, and `5`.\n",
    "\n",
    "If you need to find information about your variable,\n",
    "you can run `?numbers` in a code cell and a help window will pop up containing information about things like the variable's type and length.\n",
    "\n",
    "Similar (but more extensive) information appears in an output cell if you run `help(numbers)`\n",
    "this additional detail may be useful to you as your programming skills develop. \n",
    "\n",
    "We can also use negative numbers to index from the end of the list:"
   ]
  },
  {
   "cell_type": "code",
   "execution_count": 26,
   "metadata": {},
   "outputs": [
    {
     "data": {
      "text/plain": [
       "6"
      ]
     },
     "execution_count": 26,
     "metadata": {},
     "output_type": "execute_result"
    }
   ],
   "source": [
    "# access last element in list\n",
    "numbers[-1]"
   ]
  },
  {
   "cell_type": "code",
   "execution_count": 27,
   "metadata": {},
   "outputs": [
    {
     "data": {
      "text/plain": [
       "5"
      ]
     },
     "execution_count": 27,
     "metadata": {},
     "output_type": "execute_result"
    }
   ],
   "source": [
    "# access second-to-last element in list\n",
    "numbers[-2]"
   ]
  },
  {
   "cell_type": "markdown",
   "metadata": {},
   "source": [
    "We can use `:` to access a range of items in a list (note that the first index is included but the last is not):"
   ]
  },
  {
   "cell_type": "code",
   "execution_count": 28,
   "metadata": {},
   "outputs": [
    {
     "data": {
      "text/plain": [
       "[2, 3, 4]"
      ]
     },
     "execution_count": 28,
     "metadata": {},
     "output_type": "execute_result"
    }
   ],
   "source": [
    "# access a range\n",
    "numbers[1:4]"
   ]
  },
  {
   "cell_type": "markdown",
   "metadata": {},
   "source": [
    "We can also leave one side of the range empty to go to the edge of the list:"
   ]
  },
  {
   "cell_type": "code",
   "execution_count": 29,
   "metadata": {},
   "outputs": [
    {
     "data": {
      "text/plain": [
       "[1, 2, 3]"
      ]
     },
     "execution_count": 29,
     "metadata": {},
     "output_type": "execute_result"
    }
   ],
   "source": [
    "# from the start up to but not including index 3\n",
    "numbers[:3]"
   ]
  },
  {
   "cell_type": "code",
   "execution_count": 30,
   "metadata": {},
   "outputs": [
    {
     "data": {
      "text/plain": [
       "[4, 5, 6]"
      ]
     },
     "execution_count": 30,
     "metadata": {},
     "output_type": "execute_result"
    }
   ],
   "source": [
    "# from index 3 to the end\n",
    "numbers[3:]"
   ]
  },
  {
   "cell_type": "code",
   "execution_count": 31,
   "metadata": {},
   "outputs": [
    {
     "data": {
      "text/plain": [
       "[4, 5, 6]"
      ]
     },
     "execution_count": 31,
     "metadata": {},
     "output_type": "execute_result"
    }
   ],
   "source": [
    "# the last three elements\n",
    "numbers[-3:]"
   ]
  },
  {
   "cell_type": "markdown",
   "metadata": {},
   "source": [
    "We can modify lists after they are created by adding elements or modifying elements:"
   ]
  },
  {
   "cell_type": "code",
   "execution_count": 32,
   "metadata": {},
   "outputs": [],
   "source": [
    "# add element (number) to end of list\n",
    "numbers.append(7)"
   ]
  },
  {
   "cell_type": "markdown",
   "metadata": {},
   "source": [
    "Note that nothing is printed as output unless we specifically ask for it:"
   ]
  },
  {
   "cell_type": "code",
   "execution_count": 33,
   "metadata": {},
   "outputs": [
    {
     "name": "stdout",
     "output_type": "stream",
     "text": [
      "[1, 2, 3, 4, 5, 6, 7]\n"
     ]
    }
   ],
   "source": [
    "print(numbers)"
   ]
  },
  {
   "cell_type": "markdown",
   "metadata": {},
   "source": [
    "`append()` is a method, or function associated with a particular variable. \n",
    "In this case, it is a method associated with lists that allows us to directly modify it.\n",
    "You can learn more about this method by typing `?numbers.append` in a new code cell,\n",
    "which presents a help window with the following information:\n",
    "\n",
    "```\n",
    "Docstring: L.append(object) -> None -- append object to end\n",
    "Type:      builtin_function_or_method\n",
    "```\n",
    "\n",
    "You can view other methods available for lists by typing `?numbers.` \n",
    "in a new code cell and hitting the `tab` key.\n",
    "This provides a drop-down list that shows all methods available for the variable."
   ]
  },
  {
   "cell_type": "code",
   "execution_count": 34,
   "metadata": {},
   "outputs": [
    {
     "name": "stdout",
     "output_type": "stream",
     "text": [
      "[1, 17, 3, 4, 5, 6, 7]\n"
     ]
    }
   ],
   "source": [
    "# modify existing element\n",
    "numbers[1] = 17\n",
    "print(numbers)"
   ]
  },
  {
   "cell_type": "markdown",
   "metadata": {},
   "source": [
    "Python also provides a function `len()` to determine how long a list is:"
   ]
  },
  {
   "cell_type": "code",
   "execution_count": 35,
   "metadata": {},
   "outputs": [
    {
     "data": {
      "text/plain": [
       "7"
      ]
     },
     "execution_count": 35,
     "metadata": {},
     "output_type": "execute_result"
    }
   ],
   "source": [
    "# calculate length\n",
    "len(numbers)"
   ]
  },
  {
   "cell_type": "markdown",
   "metadata": {},
   "source": [
    "> #### Exercise: remove\n",
    "How do you remove items from a list?"
   ]
  },
  {
   "cell_type": "markdown",
   "metadata": {},
   "source": [
    "# Loops and Statements to control flow"
   ]
  },
  {
   "cell_type": "markdown",
   "metadata": {},
   "source": [
    "## \"For\" loops"
   ]
  },
  {
   "cell_type": "markdown",
   "metadata": {},
   "source": [
    "We've been printing the contents of lists so far to the screen,\n",
    "but we often would like to access each element in a structure once at a time.\n",
    "We can accomplish this using a programming structure called a for loop.\n",
    "For loops exist in many programming languages, \n",
    "and can be used to repeat actions across a set of things.\n",
    "Here, we'll access elements in `organs` one at a time:"
   ]
  },
  {
   "cell_type": "code",
   "execution_count": 36,
   "metadata": {},
   "outputs": [
    {
     "name": "stdout",
     "output_type": "stream",
     "text": [
      "lung\n",
      "kidney\n",
      "heart\n"
     ]
    }
   ],
   "source": [
    "# lists of string data\n",
    "organs = [\"lung\", \"kidney\", \"heart\"]\n",
    "\n",
    "# for loop to access elements in list one at a time\n",
    "for organ in organs:\n",
    "    print(organ)"
   ]
  },
  {
   "cell_type": "markdown",
   "metadata": {},
   "source": [
    "In the code above, `organ` represents a variable used inside the for loop.\n",
    "There is a predictable format for the syntax of a for loop,\n",
    "Loops require specific syntax, including `for`, `in`, and `:` in the first line. You can read about for loop structures in Python [here](https://wiki.python.org/moin/ForLoop)."
   ]
  },
  {
   "cell_type": "markdown",
   "metadata": {},
   "source": [
    "## \"While\" loops"
   ]
  },
  {
   "cell_type": "code",
   "execution_count": null,
   "metadata": {},
   "outputs": [],
   "source": [
    "x = 0\n",
    "while ( x < 10 ): \n",
    "    x = x + 1; \n",
    "    print(x)\n"
   ]
  },
  {
   "cell_type": "markdown",
   "metadata": {},
   "source": [
    "## If/Else statements"
   ]
  },
  {
   "cell_type": "code",
   "execution_count": null,
   "metadata": {},
   "outputs": [],
   "source": [
    "for n in numbers:\n",
    "    if n >5:\n",
    "        print(\"large number\")\n",
    "    else:\n",
    "        print(\"small number\")"
   ]
  },
  {
   "cell_type": "markdown",
   "metadata": {},
   "source": [
    "> #### Exercise: elif\n",
    "What do you think \"elif\" means? (Hint: it's a combo of the two statements we used above) Try using \"elif\" to print out if a number is \"medium\" (small <4 , medium 4 to 7 and larger than 7 is large)"
   ]
  },
  {
   "cell_type": "markdown",
   "metadata": {},
   "source": [
    "## Functions"
   ]
  },
  {
   "cell_type": "markdown",
   "metadata": {},
   "source": [
    "In this last section, we'll briefly overview how to write our own custom functions:"
   ]
  },
  {
   "cell_type": "code",
   "execution_count": 37,
   "metadata": {},
   "outputs": [],
   "source": [
    "# define a chunk of code as function\n",
    "def plus_ten(a):\n",
    "    result = a + 10\n",
    "    return result"
   ]
  },
  {
   "cell_type": "markdown",
   "metadata": {},
   "source": [
    "The first line of code defines the function with the name `plus_ten()` \n",
    "that accepts one items as input (`a`).\n",
    "The second line performs the action,\n",
    "and the last line determines what is output.\n",
    "\n",
    "We can test the function by evaluating its use on data with an easily predictable outcome:"
   ]
  },
  {
   "cell_type": "code",
   "execution_count": 38,
   "metadata": {},
   "outputs": [
    {
     "name": "stdout",
     "output_type": "stream",
     "text": [
      "31\n"
     ]
    }
   ],
   "source": [
    "# apply the function\n",
    "z = plus_ten(21)\n",
    "print(z)"
   ]
  },
  {
   "cell_type": "markdown",
   "metadata": {},
   "source": [
    "Let's combine a for loop with our `plus_ten` function:"
   ]
  },
  {
   "cell_type": "code",
   "execution_count": 39,
   "metadata": {},
   "outputs": [
    {
     "name": "stdout",
     "output_type": "stream",
     "text": [
      "11\n",
      "27\n",
      "13\n",
      "14\n",
      "15\n",
      "16\n",
      "17\n"
     ]
    }
   ],
   "source": [
    "for num in numbers:\n",
    "    new_num = plus_ten(num)\n",
    "    print(new_num)"
   ]
  },
  {
   "cell_type": "markdown",
   "metadata": {},
   "source": [
    "> #### Exercise: function \n",
    "Define a new function called `times_ten` that multiplies a number by 10."
   ]
  },
  {
   "cell_type": "markdown",
   "metadata": {},
   "source": [
    "# Starting with data\n",
    "\n",
    "## Using packages\n",
    "\n",
    "We'll first need to load additional packages,\n",
    "(collections of related functions)\n",
    "so the functions we'll need are available for use:"
   ]
  },
  {
   "cell_type": "code",
   "execution_count": 40,
   "metadata": {},
   "outputs": [],
   "source": [
    "# make packages available to use in this notebook\n",
    "import os\n",
    "import urllib.request\n",
    "import pandas as pd"
   ]
  },
  {
   "cell_type": "markdown",
   "metadata": {},
   "source": [
    "The packages we're using today include:\n",
    "\n",
    "- [`os`](https://docs.python.org/3/library/os.html): to create a `data` directory\n",
    "- [`urllib`](https://docs.python.org/3/library/urllib.html): for downloading files\n",
    "- [`pandas`](https://pandas.pydata.org): for data manipulation and analysis\n",
    "\n",
    "For the last package,\n",
    "`pd` is being defined as an alias, or shortcut, \n",
    "to specify we're using a function from that package.\n",
    "For the rest of this lesson, we'll preface the function in which it's been loaded."
   ]
  },
  {
   "cell_type": "markdown",
   "metadata": {},
   "source": [
    "## Importing data\n",
    "\n",
    "Before we can download our data,\n",
    "we should create a new directory to contain it:"
   ]
  },
  {
   "cell_type": "code",
   "execution_count": 41,
   "metadata": {},
   "outputs": [],
   "source": [
    "# create data directory\n",
    "os.mkdir(\"data\")"
   ]
  },
  {
   "cell_type": "markdown",
   "metadata": {},
   "source": [
    "Then we can use a function from the `urllib` package to download the data file:"
   ]
  },
  {
   "cell_type": "code",
   "execution_count": 42,
   "metadata": {},
   "outputs": [
    {
     "data": {
      "text/plain": [
       "('data/animals.csv', <http.client.HTTPMessage at 0x7fe325c38410>)"
      ]
     },
     "execution_count": 42,
     "metadata": {},
     "output_type": "execute_result"
    }
   ],
   "source": [
    "# download dataset\n",
    "urllib.request.urlretrieve(\"https://raw.githubusercontent.com/uicacer/workshops/main/r_intro/data/animals.csv\", \"data/animals.csv\")"
   ]
  },
  {
   "cell_type": "markdown",
   "metadata": {},
   "source": [
    "The first argument (string inside quotation marks)\n",
    "represents the URL from which the data is being downloaded.\n",
    "The second argument (\"data/animals.csv\") indicates where the data will be saved.\n",
    "\n",
    "Notice that the URL above ends in \"animals.csv\", \n",
    "which is also the name we used to save the file on our computers.\n",
    "If you click on the URL and view it in a web browser, the format isn’t particularly easy for us to understand. \n",
    "The data we’ve downloaded are in csv format, which stands for “comma separated values.” This means the data are organized into rows and columns, with columns separated by commas.\n",
    "\n",
    "These data are arranged in a tidy format, meaning each row represents an observation, and each column represents a variable (piece of data for each observation). Moreover, only one piece of data is entered in each cell.\n",
    "\n",
    "We are investigating the animal species diversity and weights found within plots at our study site. Each row holds information for a single animal, and the columns represent:\n",
    "\n",
    "| Column           | Description                        |\n",
    "| ---------------- | ---------------------------------- |\n",
    "| year             | year of observation                |\n",
    "| sex              | sex of animal (“M”, “F”)           |\n",
    "| hindfoot\\_length | length of the hindfoot in mm       |\n",
    "| weight           | weight of the animal in grams      |\n",
    "| genus            | genus of animal                    |\n",
    "| species          | species of animal                  |\n",
    "| taxon            | e.g. Rodent, Reptile, Bird, Rabbit |\n",
    "| plot\\_type       | type of plot                       |\n",
    "\n",
    "\n",
    "We can import these data and assign them to a variable:"
   ]
  },
  {
   "cell_type": "code",
   "execution_count": 43,
   "metadata": {},
   "outputs": [],
   "source": [
    "# assign data to variable\n",
    "animal_df = pd.read_csv(\"data/animals.csv\")"
   ]
  },
  {
   "cell_type": "markdown",
   "metadata": {},
   "source": [
    "The command executed successfully, \n",
    "but we still need to ensure the data have been imported correctly.\n",
    "\n",
    "There are a few ways we can inspect the data.\n",
    "First, we can preview the data:"
   ]
  },
  {
   "cell_type": "code",
   "execution_count": 44,
   "metadata": {},
   "outputs": [
    {
     "data": {
      "text/html": [
       "<div>\n",
       "<style scoped>\n",
       "    .dataframe tbody tr th:only-of-type {\n",
       "        vertical-align: middle;\n",
       "    }\n",
       "\n",
       "    .dataframe tbody tr th {\n",
       "        vertical-align: top;\n",
       "    }\n",
       "\n",
       "    .dataframe thead th {\n",
       "        text-align: right;\n",
       "    }\n",
       "</style>\n",
       "<table border=\"1\" class=\"dataframe\">\n",
       "  <thead>\n",
       "    <tr style=\"text-align: right;\">\n",
       "      <th></th>\n",
       "      <th>year</th>\n",
       "      <th>sex</th>\n",
       "      <th>hindfoot_length</th>\n",
       "      <th>weight</th>\n",
       "      <th>genus</th>\n",
       "      <th>species</th>\n",
       "      <th>taxa</th>\n",
       "      <th>plot_type</th>\n",
       "    </tr>\n",
       "  </thead>\n",
       "  <tbody>\n",
       "    <tr>\n",
       "      <th>0</th>\n",
       "      <td>1983</td>\n",
       "      <td>F</td>\n",
       "      <td>19.0</td>\n",
       "      <td>28.0</td>\n",
       "      <td>Onychomys</td>\n",
       "      <td>torridus</td>\n",
       "      <td>Rodent</td>\n",
       "      <td>Long-term Krat Exclosure</td>\n",
       "    </tr>\n",
       "    <tr>\n",
       "      <th>1</th>\n",
       "      <td>1991</td>\n",
       "      <td>not reported</td>\n",
       "      <td>NaN</td>\n",
       "      <td>NaN</td>\n",
       "      <td>Amphispiza</td>\n",
       "      <td>bilineata</td>\n",
       "      <td>Bird</td>\n",
       "      <td>Control</td>\n",
       "    </tr>\n",
       "    <tr>\n",
       "      <th>2</th>\n",
       "      <td>1987</td>\n",
       "      <td>F</td>\n",
       "      <td>32.0</td>\n",
       "      <td>162.0</td>\n",
       "      <td>Neotoma</td>\n",
       "      <td>albigula</td>\n",
       "      <td>Rodent</td>\n",
       "      <td>Control</td>\n",
       "    </tr>\n",
       "    <tr>\n",
       "      <th>3</th>\n",
       "      <td>1995</td>\n",
       "      <td>M</td>\n",
       "      <td>36.0</td>\n",
       "      <td>44.0</td>\n",
       "      <td>Dipodomys</td>\n",
       "      <td>merriami</td>\n",
       "      <td>Rodent</td>\n",
       "      <td>Control</td>\n",
       "    </tr>\n",
       "    <tr>\n",
       "      <th>4</th>\n",
       "      <td>2002</td>\n",
       "      <td>F</td>\n",
       "      <td>23.0</td>\n",
       "      <td>15.0</td>\n",
       "      <td>Chaetodipus</td>\n",
       "      <td>penicillatus</td>\n",
       "      <td>Rodent</td>\n",
       "      <td>Spectab exclosure</td>\n",
       "    </tr>\n",
       "  </tbody>\n",
       "</table>\n",
       "</div>"
      ],
      "text/plain": [
       "   year           sex  hindfoot_length  weight        genus       species  \\\n",
       "0  1983             F             19.0    28.0    Onychomys      torridus   \n",
       "1  1991  not reported              NaN     NaN   Amphispiza     bilineata   \n",
       "2  1987             F             32.0   162.0      Neotoma      albigula   \n",
       "3  1995             M             36.0    44.0    Dipodomys      merriami   \n",
       "4  2002             F             23.0    15.0  Chaetodipus  penicillatus   \n",
       "\n",
       "     taxa                 plot_type  \n",
       "0  Rodent  Long-term Krat Exclosure  \n",
       "1    Bird                   Control  \n",
       "2  Rodent                   Control  \n",
       "3  Rodent                   Control  \n",
       "4  Rodent         Spectab exclosure  "
      ]
     },
     "execution_count": 44,
     "metadata": {},
     "output_type": "execute_result"
    }
   ],
   "source": [
    "# preview first few rows of the data\n",
    "animal_df.head()"
   ]
  },
  {
   "cell_type": "markdown",
   "metadata": {},
   "source": [
    "The `head` function by default shows the the column headers,\n",
    "along with first five rows of data.\n",
    "You can specify a different number of rows by placing that number inside the parentheses, \n",
    "demonstrated below using `tail`, \n",
    "which shows the last few rows:"
   ]
  },
  {
   "cell_type": "code",
   "execution_count": 45,
   "metadata": {},
   "outputs": [
    {
     "data": {
      "text/html": [
       "<div>\n",
       "<style scoped>\n",
       "    .dataframe tbody tr th:only-of-type {\n",
       "        vertical-align: middle;\n",
       "    }\n",
       "\n",
       "    .dataframe tbody tr th {\n",
       "        vertical-align: top;\n",
       "    }\n",
       "\n",
       "    .dataframe thead th {\n",
       "        text-align: right;\n",
       "    }\n",
       "</style>\n",
       "<table border=\"1\" class=\"dataframe\">\n",
       "  <thead>\n",
       "    <tr style=\"text-align: right;\">\n",
       "      <th></th>\n",
       "      <th>year</th>\n",
       "      <th>sex</th>\n",
       "      <th>hindfoot_length</th>\n",
       "      <th>weight</th>\n",
       "      <th>genus</th>\n",
       "      <th>species</th>\n",
       "      <th>taxa</th>\n",
       "      <th>plot_type</th>\n",
       "    </tr>\n",
       "  </thead>\n",
       "  <tbody>\n",
       "    <tr>\n",
       "      <th>34778</th>\n",
       "      <td>2000</td>\n",
       "      <td>F</td>\n",
       "      <td>25.0</td>\n",
       "      <td>32.0</td>\n",
       "      <td>Chaetodipus</td>\n",
       "      <td>baileyi</td>\n",
       "      <td>Rodent</td>\n",
       "      <td>Control</td>\n",
       "    </tr>\n",
       "    <tr>\n",
       "      <th>34779</th>\n",
       "      <td>1979</td>\n",
       "      <td>F</td>\n",
       "      <td>49.0</td>\n",
       "      <td>73.0</td>\n",
       "      <td>Dipodomys</td>\n",
       "      <td>spectabilis</td>\n",
       "      <td>Rodent</td>\n",
       "      <td>Control</td>\n",
       "    </tr>\n",
       "    <tr>\n",
       "      <th>34780</th>\n",
       "      <td>1980</td>\n",
       "      <td>F</td>\n",
       "      <td>19.0</td>\n",
       "      <td>29.0</td>\n",
       "      <td>Onychomys</td>\n",
       "      <td>torridus</td>\n",
       "      <td>Rodent</td>\n",
       "      <td>Rodent Exclosure</td>\n",
       "    </tr>\n",
       "    <tr>\n",
       "      <th>34781</th>\n",
       "      <td>1990</td>\n",
       "      <td>M</td>\n",
       "      <td>36.0</td>\n",
       "      <td>47.0</td>\n",
       "      <td>Dipodomys</td>\n",
       "      <td>merriami</td>\n",
       "      <td>Rodent</td>\n",
       "      <td>Spectab exclosure</td>\n",
       "    </tr>\n",
       "    <tr>\n",
       "      <th>34782</th>\n",
       "      <td>1978</td>\n",
       "      <td>M</td>\n",
       "      <td>55.0</td>\n",
       "      <td>168.0</td>\n",
       "      <td>Dipodomys</td>\n",
       "      <td>spectabilis</td>\n",
       "      <td>Rodent</td>\n",
       "      <td>Spectab exclosure</td>\n",
       "    </tr>\n",
       "    <tr>\n",
       "      <th>34783</th>\n",
       "      <td>1988</td>\n",
       "      <td>F</td>\n",
       "      <td>37.0</td>\n",
       "      <td>50.0</td>\n",
       "      <td>Dipodomys</td>\n",
       "      <td>ordii</td>\n",
       "      <td>Rodent</td>\n",
       "      <td>Control</td>\n",
       "    </tr>\n",
       "    <tr>\n",
       "      <th>34784</th>\n",
       "      <td>2001</td>\n",
       "      <td>M</td>\n",
       "      <td>23.0</td>\n",
       "      <td>17.0</td>\n",
       "      <td>Chaetodipus</td>\n",
       "      <td>penicillatus</td>\n",
       "      <td>Rodent</td>\n",
       "      <td>Short-term Krat Exclosure</td>\n",
       "    </tr>\n",
       "    <tr>\n",
       "      <th>34785</th>\n",
       "      <td>1995</td>\n",
       "      <td>F</td>\n",
       "      <td>17.0</td>\n",
       "      <td>18.0</td>\n",
       "      <td>Reithrodontomys</td>\n",
       "      <td>megalotis</td>\n",
       "      <td>Rodent</td>\n",
       "      <td>Short-term Krat Exclosure</td>\n",
       "    </tr>\n",
       "  </tbody>\n",
       "</table>\n",
       "</div>"
      ],
      "text/plain": [
       "       year sex  hindfoot_length  weight            genus       species  \\\n",
       "34778  2000   F             25.0    32.0      Chaetodipus       baileyi   \n",
       "34779  1979   F             49.0    73.0        Dipodomys   spectabilis   \n",
       "34780  1980   F             19.0    29.0        Onychomys      torridus   \n",
       "34781  1990   M             36.0    47.0        Dipodomys      merriami   \n",
       "34782  1978   M             55.0   168.0        Dipodomys   spectabilis   \n",
       "34783  1988   F             37.0    50.0        Dipodomys         ordii   \n",
       "34784  2001   M             23.0    17.0      Chaetodipus  penicillatus   \n",
       "34785  1995   F             17.0    18.0  Reithrodontomys     megalotis   \n",
       "\n",
       "         taxa                  plot_type  \n",
       "34778  Rodent                    Control  \n",
       "34779  Rodent                    Control  \n",
       "34780  Rodent           Rodent Exclosure  \n",
       "34781  Rodent          Spectab exclosure  \n",
       "34782  Rodent          Spectab exclosure  \n",
       "34783  Rodent                    Control  \n",
       "34784  Rodent  Short-term Krat Exclosure  \n",
       "34785  Rodent  Short-term Krat Exclosure  "
      ]
     },
     "execution_count": 45,
     "metadata": {},
     "output_type": "execute_result"
    }
   ],
   "source": [
    "# print last eight rows of data to screen\n",
    "animal_df.tail(8) # pass argument for number of rows"
   ]
  },
  {
   "cell_type": "markdown",
   "metadata": {},
   "source": [
    "We can use `len()` to determine how many rows and columns are in our data:"
   ]
  },
  {
   "cell_type": "code",
   "execution_count": 46,
   "metadata": {},
   "outputs": [
    {
     "data": {
      "text/plain": [
       "34786"
      ]
     },
     "execution_count": 46,
     "metadata": {},
     "output_type": "execute_result"
    }
   ],
   "source": [
    "# number of rows\n",
    "len(animal_df)"
   ]
  },
  {
   "cell_type": "code",
   "execution_count": 47,
   "metadata": {},
   "outputs": [
    {
     "data": {
      "text/plain": [
       "8"
      ]
     },
     "execution_count": 47,
     "metadata": {},
     "output_type": "execute_result"
    }
   ],
   "source": [
    "# number of columns\n",
    "len(animal_df.columns)"
   ]
  },
  {
   "cell_type": "markdown",
   "metadata": {},
   "source": [
    "Now that we have data imported and available, \n",
    "we can print a summary of all column names, number of entries, data types, and non-null values:"
   ]
  },
  {
   "cell_type": "code",
   "execution_count": 48,
   "metadata": {},
   "outputs": [
    {
     "name": "stdout",
     "output_type": "stream",
     "text": [
      "<class 'pandas.core.frame.DataFrame'>\n",
      "RangeIndex: 34786 entries, 0 to 34785\n",
      "Data columns (total 8 columns):\n",
      " #   Column           Non-Null Count  Dtype  \n",
      "---  ------           --------------  -----  \n",
      " 0   year             34786 non-null  int64  \n",
      " 1   sex              34786 non-null  object \n",
      " 2   hindfoot_length  31438 non-null  float64\n",
      " 3   weight           32283 non-null  float64\n",
      " 4   genus            34786 non-null  object \n",
      " 5   species          34786 non-null  object \n",
      " 6   taxa             34786 non-null  object \n",
      " 7   plot_type        34786 non-null  object \n",
      "dtypes: float64(2), int64(1), object(5)\n",
      "memory usage: 2.1+ MB\n"
     ]
    }
   ],
   "source": [
    "# print summary\n",
    "animal_df.info() "
   ]
  },
  {
   "cell_type": "markdown",
   "metadata": {},
   "source": [
    "The output above highlight another of the key features of `pandas`:\n",
    "it interprets data in ways that make it easier to analyze.\n",
    "\n",
    "The description at the top of this output,\n",
    "`pandas.core.frame.DataFrame`,\n",
    "describes the data structure as a data frame,\n",
    "which is how `pandas` interprets spreadsheet style data.\n",
    "Directly below that line,\n",
    "we see a note that there are 6832 observations (rows, or our case, patients or cases),\n",
    "as well as 8 columns.\n",
    "A summary of the data type for each column is below.\n",
    "\n",
    "In the last lesson,\n",
    "we discussed data types built into Python.\n",
    "`pandas` features the following data types specific to its package,\n",
    "which were implemented in our data:\n",
    "\n",
    "- `object` data in `pandas` represents string (character) data in native Python\n",
    "- `float64` is still float data (the `64` references 64 bit hardware)\n",
    "- `int64` in `pandas` refers to integer data \n",
    "- `datetime64` from `pandas` isn't shown here, but refers to a specific format to make working with date and time data easier. \n",
    "\n",
    "> To create a list in a markdown cell, \n",
    "use an asterisk (`*`) or dash (`-`) followed by a space;\n",
    "these will be rendered as bullet points when you execute the cell."
   ]
  },
  {
   "cell_type": "markdown",
   "metadata": {},
   "source": [
    "## Accessing columns and rows\n",
    "\n",
    "A common task in data analysis is to extract particular columns or rows,\n",
    "often referred to as subsetting.\n",
    "This section explores a few different ways to access these parts of our spreadsheet.\n",
    "\n",
    "First, we can subset a single column using its name (column header):"
   ]
  },
  {
   "cell_type": "code",
   "execution_count": 49,
   "metadata": {},
   "outputs": [
    {
     "data": {
      "text/plain": [
       "0    Rodent\n",
       "1      Bird\n",
       "2    Rodent\n",
       "3    Rodent\n",
       "4    Rodent\n",
       "Name: taxa, dtype: object"
      ]
     },
     "execution_count": 49,
     "metadata": {},
     "output_type": "execute_result"
    }
   ],
   "source": [
    "# show only the first few rows of one column\n",
    "animal_df[\"taxa\"].head()"
   ]
  },
  {
   "cell_type": "markdown",
   "metadata": {},
   "source": [
    "The square brackets above are a common subsetting syntax in Python.\n",
    "The quotation marks around the column name are necessary for Python to interpret it as a column,\n",
    "rather than a variable name.\n",
    "We've added `.head()` to the end so we only preview the first few rows, rather than the entire data frame.\n",
    "\n",
    "Similarly, we can assess the data type of a specific row:"
   ]
  },
  {
   "cell_type": "code",
   "execution_count": 50,
   "metadata": {},
   "outputs": [
    {
     "data": {
      "text/plain": [
       "dtype('O')"
      ]
     },
     "execution_count": 50,
     "metadata": {},
     "output_type": "execute_result"
    }
   ],
   "source": [
    "# show data type for a column\n",
    "animal_df[\"taxa\"].dtype "
   ]
  },
  {
   "cell_type": "markdown",
   "metadata": {},
   "source": [
    "The output, `O`, \n",
    "indicates these data are object (character) type.\n",
    "\n",
    "One of the shortcuts afforded by `pandas` is the ability to treat the column names as attributes,\n",
    "which means you can access them using the `.` syntax:"
   ]
  },
  {
   "cell_type": "code",
   "execution_count": 51,
   "metadata": {},
   "outputs": [
    {
     "data": {
      "text/plain": [
       "0    Rodent\n",
       "1      Bird\n",
       "2    Rodent\n",
       "3    Rodent\n",
       "4    Rodent\n",
       "Name: taxa, dtype: object"
      ]
     },
     "execution_count": 51,
     "metadata": {},
     "output_type": "execute_result"
    }
   ],
   "source": [
    "# access columns by name using dot syntax\n",
    "animal_df.taxa.head()"
   ]
  },
  {
   "cell_type": "markdown",
   "metadata": {},
   "source": [
    "Here, we've also used `.head()` to minimize the amount of data printed to the screen.\n",
    "If you were assigning data to a new variable name, \n",
    "you would likely be using the whole column instead.\n",
    "\n",
    "If you need to extract multiple columns, \n",
    "you'll need to adjust the syntax slightly:"
   ]
  },
  {
   "cell_type": "code",
   "execution_count": 52,
   "metadata": {},
   "outputs": [
    {
     "data": {
      "text/html": [
       "<div>\n",
       "<style scoped>\n",
       "    .dataframe tbody tr th:only-of-type {\n",
       "        vertical-align: middle;\n",
       "    }\n",
       "\n",
       "    .dataframe tbody tr th {\n",
       "        vertical-align: top;\n",
       "    }\n",
       "\n",
       "    .dataframe thead th {\n",
       "        text-align: right;\n",
       "    }\n",
       "</style>\n",
       "<table border=\"1\" class=\"dataframe\">\n",
       "  <thead>\n",
       "    <tr style=\"text-align: right;\">\n",
       "      <th></th>\n",
       "      <th>taxa</th>\n",
       "      <th>year</th>\n",
       "    </tr>\n",
       "  </thead>\n",
       "  <tbody>\n",
       "    <tr>\n",
       "      <th>0</th>\n",
       "      <td>Rodent</td>\n",
       "      <td>1983</td>\n",
       "    </tr>\n",
       "    <tr>\n",
       "      <th>1</th>\n",
       "      <td>Bird</td>\n",
       "      <td>1991</td>\n",
       "    </tr>\n",
       "    <tr>\n",
       "      <th>2</th>\n",
       "      <td>Rodent</td>\n",
       "      <td>1987</td>\n",
       "    </tr>\n",
       "    <tr>\n",
       "      <th>3</th>\n",
       "      <td>Rodent</td>\n",
       "      <td>1995</td>\n",
       "    </tr>\n",
       "    <tr>\n",
       "      <th>4</th>\n",
       "      <td>Rodent</td>\n",
       "      <td>2002</td>\n",
       "    </tr>\n",
       "  </tbody>\n",
       "</table>\n",
       "</div>"
      ],
      "text/plain": [
       "     taxa  year\n",
       "0  Rodent  1983\n",
       "1    Bird  1991\n",
       "2  Rodent  1987\n",
       "3  Rodent  1995\n",
       "4  Rodent  2002"
      ]
     },
     "execution_count": 52,
     "metadata": {},
     "output_type": "execute_result"
    }
   ],
   "source": [
    "# select two columns at once\n",
    "animal_df[[\"taxa\", \"year\"]].head()"
   ]
  },
  {
   "cell_type": "markdown",
   "metadata": {},
   "source": [
    "In this case, we can't use the dot syntax to access columns.\n",
    "However, double square brackets are a common part of Python syntax.\n",
    "They reference parts of lists.\n",
    "In general, the dot syntax means you are accessing a part of the thing (generally a variable)\n",
    "that comes before the dot.\n",
    "\n",
    "> #### Exercise: typo\n",
    "What happens if you misspell the name of a column?\n",
    "\n",
    "> #### Exercise: order\n",
    "Does the order of the columns you list matter?\n",
    "\n",
    "We can also extract rows from a data frame:"
   ]
  },
  {
   "cell_type": "code",
   "execution_count": 53,
   "metadata": {},
   "outputs": [
    {
     "data": {
      "text/html": [
       "<div>\n",
       "<style scoped>\n",
       "    .dataframe tbody tr th:only-of-type {\n",
       "        vertical-align: middle;\n",
       "    }\n",
       "\n",
       "    .dataframe tbody tr th {\n",
       "        vertical-align: top;\n",
       "    }\n",
       "\n",
       "    .dataframe thead th {\n",
       "        text-align: right;\n",
       "    }\n",
       "</style>\n",
       "<table border=\"1\" class=\"dataframe\">\n",
       "  <thead>\n",
       "    <tr style=\"text-align: right;\">\n",
       "      <th></th>\n",
       "      <th>year</th>\n",
       "      <th>sex</th>\n",
       "      <th>hindfoot_length</th>\n",
       "      <th>weight</th>\n",
       "      <th>genus</th>\n",
       "      <th>species</th>\n",
       "      <th>taxa</th>\n",
       "      <th>plot_type</th>\n",
       "    </tr>\n",
       "  </thead>\n",
       "  <tbody>\n",
       "    <tr>\n",
       "      <th>1</th>\n",
       "      <td>1991</td>\n",
       "      <td>not reported</td>\n",
       "      <td>NaN</td>\n",
       "      <td>NaN</td>\n",
       "      <td>Amphispiza</td>\n",
       "      <td>bilineata</td>\n",
       "      <td>Bird</td>\n",
       "      <td>Control</td>\n",
       "    </tr>\n",
       "    <tr>\n",
       "      <th>2</th>\n",
       "      <td>1987</td>\n",
       "      <td>F</td>\n",
       "      <td>32.0</td>\n",
       "      <td>162.0</td>\n",
       "      <td>Neotoma</td>\n",
       "      <td>albigula</td>\n",
       "      <td>Rodent</td>\n",
       "      <td>Control</td>\n",
       "    </tr>\n",
       "    <tr>\n",
       "      <th>3</th>\n",
       "      <td>1995</td>\n",
       "      <td>M</td>\n",
       "      <td>36.0</td>\n",
       "      <td>44.0</td>\n",
       "      <td>Dipodomys</td>\n",
       "      <td>merriami</td>\n",
       "      <td>Rodent</td>\n",
       "      <td>Control</td>\n",
       "    </tr>\n",
       "  </tbody>\n",
       "</table>\n",
       "</div>"
      ],
      "text/plain": [
       "   year           sex  hindfoot_length  weight       genus    species    taxa  \\\n",
       "1  1991  not reported              NaN     NaN  Amphispiza  bilineata    Bird   \n",
       "2  1987             F             32.0   162.0     Neotoma   albigula  Rodent   \n",
       "3  1995             M             36.0    44.0   Dipodomys   merriami  Rodent   \n",
       "\n",
       "  plot_type  \n",
       "1   Control  \n",
       "2   Control  \n",
       "3   Control  "
      ]
     },
     "execution_count": 53,
     "metadata": {},
     "output_type": "execute_result"
    }
   ],
   "source": [
    "# access three rows \n",
    "animal_df[1:4]"
   ]
  },
  {
   "cell_type": "markdown",
   "metadata": {},
   "source": [
    "This is the same type of range notation we used for lists above, but now it gives us the first 3 rows instead of the first 3 elements.\n",
    "\n",
    "As with lists, we can leave one side of the range empty:"
   ]
  },
  {
   "cell_type": "code",
   "execution_count": 54,
   "metadata": {},
   "outputs": [
    {
     "data": {
      "text/html": [
       "<div>\n",
       "<style scoped>\n",
       "    .dataframe tbody tr th:only-of-type {\n",
       "        vertical-align: middle;\n",
       "    }\n",
       "\n",
       "    .dataframe tbody tr th {\n",
       "        vertical-align: top;\n",
       "    }\n",
       "\n",
       "    .dataframe thead th {\n",
       "        text-align: right;\n",
       "    }\n",
       "</style>\n",
       "<table border=\"1\" class=\"dataframe\">\n",
       "  <thead>\n",
       "    <tr style=\"text-align: right;\">\n",
       "      <th></th>\n",
       "      <th>year</th>\n",
       "      <th>sex</th>\n",
       "      <th>hindfoot_length</th>\n",
       "      <th>weight</th>\n",
       "      <th>genus</th>\n",
       "      <th>species</th>\n",
       "      <th>taxa</th>\n",
       "      <th>plot_type</th>\n",
       "    </tr>\n",
       "  </thead>\n",
       "  <tbody>\n",
       "    <tr>\n",
       "      <th>0</th>\n",
       "      <td>1983</td>\n",
       "      <td>F</td>\n",
       "      <td>19.0</td>\n",
       "      <td>28.0</td>\n",
       "      <td>Onychomys</td>\n",
       "      <td>torridus</td>\n",
       "      <td>Rodent</td>\n",
       "      <td>Long-term Krat Exclosure</td>\n",
       "    </tr>\n",
       "    <tr>\n",
       "      <th>1</th>\n",
       "      <td>1991</td>\n",
       "      <td>not reported</td>\n",
       "      <td>NaN</td>\n",
       "      <td>NaN</td>\n",
       "      <td>Amphispiza</td>\n",
       "      <td>bilineata</td>\n",
       "      <td>Bird</td>\n",
       "      <td>Control</td>\n",
       "    </tr>\n",
       "    <tr>\n",
       "      <th>2</th>\n",
       "      <td>1987</td>\n",
       "      <td>F</td>\n",
       "      <td>32.0</td>\n",
       "      <td>162.0</td>\n",
       "      <td>Neotoma</td>\n",
       "      <td>albigula</td>\n",
       "      <td>Rodent</td>\n",
       "      <td>Control</td>\n",
       "    </tr>\n",
       "  </tbody>\n",
       "</table>\n",
       "</div>"
      ],
      "text/plain": [
       "   year           sex  hindfoot_length  weight       genus    species    taxa  \\\n",
       "0  1983             F             19.0    28.0   Onychomys   torridus  Rodent   \n",
       "1  1991  not reported              NaN     NaN  Amphispiza  bilineata    Bird   \n",
       "2  1987             F             32.0   162.0     Neotoma   albigula  Rodent   \n",
       "\n",
       "                  plot_type  \n",
       "0  Long-term Krat Exclosure  \n",
       "1                   Control  \n",
       "2                   Control  "
      ]
     },
     "execution_count": 54,
     "metadata": {},
     "output_type": "execute_result"
    }
   ],
   "source": [
    "# access the first three rows\n",
    "animal_df[:3]"
   ]
  },
  {
   "cell_type": "code",
   "execution_count": 55,
   "metadata": {},
   "outputs": [
    {
     "data": {
      "text/html": [
       "<div>\n",
       "<style scoped>\n",
       "    .dataframe tbody tr th:only-of-type {\n",
       "        vertical-align: middle;\n",
       "    }\n",
       "\n",
       "    .dataframe tbody tr th {\n",
       "        vertical-align: top;\n",
       "    }\n",
       "\n",
       "    .dataframe thead th {\n",
       "        text-align: right;\n",
       "    }\n",
       "</style>\n",
       "<table border=\"1\" class=\"dataframe\">\n",
       "  <thead>\n",
       "    <tr style=\"text-align: right;\">\n",
       "      <th></th>\n",
       "      <th>year</th>\n",
       "      <th>sex</th>\n",
       "      <th>hindfoot_length</th>\n",
       "      <th>weight</th>\n",
       "      <th>genus</th>\n",
       "      <th>species</th>\n",
       "      <th>taxa</th>\n",
       "      <th>plot_type</th>\n",
       "    </tr>\n",
       "  </thead>\n",
       "  <tbody>\n",
       "    <tr>\n",
       "      <th>34781</th>\n",
       "      <td>1990</td>\n",
       "      <td>M</td>\n",
       "      <td>36.0</td>\n",
       "      <td>47.0</td>\n",
       "      <td>Dipodomys</td>\n",
       "      <td>merriami</td>\n",
       "      <td>Rodent</td>\n",
       "      <td>Spectab exclosure</td>\n",
       "    </tr>\n",
       "    <tr>\n",
       "      <th>34782</th>\n",
       "      <td>1978</td>\n",
       "      <td>M</td>\n",
       "      <td>55.0</td>\n",
       "      <td>168.0</td>\n",
       "      <td>Dipodomys</td>\n",
       "      <td>spectabilis</td>\n",
       "      <td>Rodent</td>\n",
       "      <td>Spectab exclosure</td>\n",
       "    </tr>\n",
       "    <tr>\n",
       "      <th>34783</th>\n",
       "      <td>1988</td>\n",
       "      <td>F</td>\n",
       "      <td>37.0</td>\n",
       "      <td>50.0</td>\n",
       "      <td>Dipodomys</td>\n",
       "      <td>ordii</td>\n",
       "      <td>Rodent</td>\n",
       "      <td>Control</td>\n",
       "    </tr>\n",
       "    <tr>\n",
       "      <th>34784</th>\n",
       "      <td>2001</td>\n",
       "      <td>M</td>\n",
       "      <td>23.0</td>\n",
       "      <td>17.0</td>\n",
       "      <td>Chaetodipus</td>\n",
       "      <td>penicillatus</td>\n",
       "      <td>Rodent</td>\n",
       "      <td>Short-term Krat Exclosure</td>\n",
       "    </tr>\n",
       "    <tr>\n",
       "      <th>34785</th>\n",
       "      <td>1995</td>\n",
       "      <td>F</td>\n",
       "      <td>17.0</td>\n",
       "      <td>18.0</td>\n",
       "      <td>Reithrodontomys</td>\n",
       "      <td>megalotis</td>\n",
       "      <td>Rodent</td>\n",
       "      <td>Short-term Krat Exclosure</td>\n",
       "    </tr>\n",
       "  </tbody>\n",
       "</table>\n",
       "</div>"
      ],
      "text/plain": [
       "       year sex  hindfoot_length  weight            genus       species  \\\n",
       "34781  1990   M             36.0    47.0        Dipodomys      merriami   \n",
       "34782  1978   M             55.0   168.0        Dipodomys   spectabilis   \n",
       "34783  1988   F             37.0    50.0        Dipodomys         ordii   \n",
       "34784  2001   M             23.0    17.0      Chaetodipus  penicillatus   \n",
       "34785  1995   F             17.0    18.0  Reithrodontomys     megalotis   \n",
       "\n",
       "         taxa                  plot_type  \n",
       "34781  Rodent          Spectab exclosure  \n",
       "34782  Rodent          Spectab exclosure  \n",
       "34783  Rodent                    Control  \n",
       "34784  Rodent  Short-term Krat Exclosure  \n",
       "34785  Rodent  Short-term Krat Exclosure  "
      ]
     },
     "execution_count": 55,
     "metadata": {},
     "output_type": "execute_result"
    }
   ],
   "source": [
    "# access the last five rows\n",
    "animal_df[34781:]"
   ]
  },
  {
   "cell_type": "markdown",
   "metadata": {},
   "source": [
    "We can perform a similar operation to `tail` using a negative index with the range:"
   ]
  },
  {
   "cell_type": "code",
   "execution_count": 56,
   "metadata": {},
   "outputs": [
    {
     "data": {
      "text/html": [
       "<div>\n",
       "<style scoped>\n",
       "    .dataframe tbody tr th:only-of-type {\n",
       "        vertical-align: middle;\n",
       "    }\n",
       "\n",
       "    .dataframe tbody tr th {\n",
       "        vertical-align: top;\n",
       "    }\n",
       "\n",
       "    .dataframe thead th {\n",
       "        text-align: right;\n",
       "    }\n",
       "</style>\n",
       "<table border=\"1\" class=\"dataframe\">\n",
       "  <thead>\n",
       "    <tr style=\"text-align: right;\">\n",
       "      <th></th>\n",
       "      <th>year</th>\n",
       "      <th>sex</th>\n",
       "      <th>hindfoot_length</th>\n",
       "      <th>weight</th>\n",
       "      <th>genus</th>\n",
       "      <th>species</th>\n",
       "      <th>taxa</th>\n",
       "      <th>plot_type</th>\n",
       "    </tr>\n",
       "  </thead>\n",
       "  <tbody>\n",
       "    <tr>\n",
       "      <th>34785</th>\n",
       "      <td>1995</td>\n",
       "      <td>F</td>\n",
       "      <td>17.0</td>\n",
       "      <td>18.0</td>\n",
       "      <td>Reithrodontomys</td>\n",
       "      <td>megalotis</td>\n",
       "      <td>Rodent</td>\n",
       "      <td>Short-term Krat Exclosure</td>\n",
       "    </tr>\n",
       "  </tbody>\n",
       "</table>\n",
       "</div>"
      ],
      "text/plain": [
       "       year sex  hindfoot_length  weight            genus    species    taxa  \\\n",
       "34785  1995   F             17.0    18.0  Reithrodontomys  megalotis  Rodent   \n",
       "\n",
       "                       plot_type  \n",
       "34785  Short-term Krat Exclosure  "
      ]
     },
     "execution_count": 56,
     "metadata": {},
     "output_type": "execute_result"
    }
   ],
   "source": [
    "# access the last row in the data frame\n",
    "animal_df[-1:] "
   ]
  },
  {
   "cell_type": "markdown",
   "metadata": {},
   "source": [
    "> #### Exercise: last\n",
    "How would you extract the last 10 rows of the dataset?\n",
    "\n",
    "> #### Exercise: middle\n",
    "Use `len()` to extract the middle row in the data set  \n",
    "Note: be careful, indices must be whole numbers. Can you think of a function we used earlier to help with this? Alternatively, see if you can figure out what the arithmetic operator `//` does."
   ]
  },
  {
   "cell_type": "markdown",
   "metadata": {},
   "source": [
    "## Slicing subsets of rows and columns"
   ]
  },
  {
   "cell_type": "markdown",
   "metadata": {},
   "source": [
    "Now that we have a basic understanding of accessing whole rows and columns, \n",
    "we are ready to discuss slicing\n",
    "(extracting portions of rows and columns).\n",
    "\n",
    "There are multiple ways to slice a data frame. \n",
    "We'll begin by exploring `iloc`, \n",
    "which uses integer indexing.\n",
    "This means we'll reference rows and columns by their index position:"
   ]
  },
  {
   "cell_type": "code",
   "execution_count": 57,
   "metadata": {},
   "outputs": [
    {
     "data": {
      "text/plain": [
       "'F'"
      ]
     },
     "execution_count": 57,
     "metadata": {},
     "output_type": "execute_result"
    }
   ],
   "source": [
    "# access one data element from a single cell\n",
    "animal_df.iloc[2, 1]"
   ]
  },
  {
   "cell_type": "markdown",
   "metadata": {},
   "source": [
    "We can check one of our previews of the data above to see that this does represent the data in that cell.\n",
    "\n",
    "As with subsetting described in the previous section,\n",
    "we can also extract ranges of cells:"
   ]
  },
  {
   "cell_type": "code",
   "execution_count": 58,
   "metadata": {},
   "outputs": [
    {
     "data": {
      "text/html": [
       "<div>\n",
       "<style scoped>\n",
       "    .dataframe tbody tr th:only-of-type {\n",
       "        vertical-align: middle;\n",
       "    }\n",
       "\n",
       "    .dataframe tbody tr th {\n",
       "        vertical-align: top;\n",
       "    }\n",
       "\n",
       "    .dataframe thead th {\n",
       "        text-align: right;\n",
       "    }\n",
       "</style>\n",
       "<table border=\"1\" class=\"dataframe\">\n",
       "  <thead>\n",
       "    <tr style=\"text-align: right;\">\n",
       "      <th></th>\n",
       "      <th>sex</th>\n",
       "      <th>hindfoot_length</th>\n",
       "      <th>weight</th>\n",
       "    </tr>\n",
       "  </thead>\n",
       "  <tbody>\n",
       "    <tr>\n",
       "      <th>0</th>\n",
       "      <td>F</td>\n",
       "      <td>19.0</td>\n",
       "      <td>28.0</td>\n",
       "    </tr>\n",
       "    <tr>\n",
       "      <th>1</th>\n",
       "      <td>not reported</td>\n",
       "      <td>NaN</td>\n",
       "      <td>NaN</td>\n",
       "    </tr>\n",
       "    <tr>\n",
       "      <th>2</th>\n",
       "      <td>F</td>\n",
       "      <td>32.0</td>\n",
       "      <td>162.0</td>\n",
       "    </tr>\n",
       "  </tbody>\n",
       "</table>\n",
       "</div>"
      ],
      "text/plain": [
       "            sex  hindfoot_length  weight\n",
       "0             F             19.0    28.0\n",
       "1  not reported              NaN     NaN\n",
       "2             F             32.0   162.0"
      ]
     },
     "execution_count": 58,
     "metadata": {},
     "output_type": "execute_result"
    }
   ],
   "source": [
    "# select range of data\n",
    "animal_df.iloc[0:3, 1:4]"
   ]
  },
  {
   "cell_type": "markdown",
   "metadata": {},
   "source": [
    "As described earlier with subsetting using ranges of index values,\n",
    "we can see in the output above that the beginning and end bounds of the ranges are noninclusive.\n",
    "\n",
    "We can also include an empty start or stop bound to indicate the beginning or end of the data frame, respectively:"
   ]
  },
  {
   "cell_type": "code",
   "execution_count": 59,
   "metadata": {},
   "outputs": [
    {
     "data": {
      "text/html": [
       "<div>\n",
       "<style scoped>\n",
       "    .dataframe tbody tr th:only-of-type {\n",
       "        vertical-align: middle;\n",
       "    }\n",
       "\n",
       "    .dataframe tbody tr th {\n",
       "        vertical-align: top;\n",
       "    }\n",
       "\n",
       "    .dataframe thead th {\n",
       "        text-align: right;\n",
       "    }\n",
       "</style>\n",
       "<table border=\"1\" class=\"dataframe\">\n",
       "  <thead>\n",
       "    <tr style=\"text-align: right;\">\n",
       "      <th></th>\n",
       "      <th>weight</th>\n",
       "      <th>genus</th>\n",
       "      <th>species</th>\n",
       "      <th>taxa</th>\n",
       "      <th>plot_type</th>\n",
       "    </tr>\n",
       "  </thead>\n",
       "  <tbody>\n",
       "    <tr>\n",
       "      <th>0</th>\n",
       "      <td>28.0</td>\n",
       "      <td>Onychomys</td>\n",
       "      <td>torridus</td>\n",
       "      <td>Rodent</td>\n",
       "      <td>Long-term Krat Exclosure</td>\n",
       "    </tr>\n",
       "    <tr>\n",
       "      <th>1</th>\n",
       "      <td>NaN</td>\n",
       "      <td>Amphispiza</td>\n",
       "      <td>bilineata</td>\n",
       "      <td>Bird</td>\n",
       "      <td>Control</td>\n",
       "    </tr>\n",
       "  </tbody>\n",
       "</table>\n",
       "</div>"
      ],
      "text/plain": [
       "   weight       genus    species    taxa                 plot_type\n",
       "0    28.0   Onychomys   torridus  Rodent  Long-term Krat Exclosure\n",
       "1     NaN  Amphispiza  bilineata    Bird                   Control"
      ]
     },
     "execution_count": 59,
     "metadata": {},
     "output_type": "execute_result"
    }
   ],
   "source": [
    "# empty stop boundary to indicate end of data\n",
    "animal_df.iloc[:2, 3:]"
   ]
  },
  {
   "cell_type": "markdown",
   "metadata": {},
   "source": [
    "Now we'll move on and explore the second method for extracting slices,\n",
    "using `loc`, which stands for label indexing.\n",
    "The tricky part with our data is that the row labels are actually also the index values.\n",
    "This means that when we extract a range of rows,\n",
    "we can still reference those values:"
   ]
  },
  {
   "cell_type": "code",
   "execution_count": 60,
   "metadata": {},
   "outputs": [
    {
     "data": {
      "text/html": [
       "<div>\n",
       "<style scoped>\n",
       "    .dataframe tbody tr th:only-of-type {\n",
       "        vertical-align: middle;\n",
       "    }\n",
       "\n",
       "    .dataframe tbody tr th {\n",
       "        vertical-align: top;\n",
       "    }\n",
       "\n",
       "    .dataframe thead th {\n",
       "        text-align: right;\n",
       "    }\n",
       "</style>\n",
       "<table border=\"1\" class=\"dataframe\">\n",
       "  <thead>\n",
       "    <tr style=\"text-align: right;\">\n",
       "      <th></th>\n",
       "      <th>year</th>\n",
       "      <th>sex</th>\n",
       "      <th>hindfoot_length</th>\n",
       "      <th>weight</th>\n",
       "      <th>genus</th>\n",
       "      <th>species</th>\n",
       "      <th>taxa</th>\n",
       "      <th>plot_type</th>\n",
       "    </tr>\n",
       "  </thead>\n",
       "  <tbody>\n",
       "    <tr>\n",
       "      <th>1</th>\n",
       "      <td>1991</td>\n",
       "      <td>not reported</td>\n",
       "      <td>NaN</td>\n",
       "      <td>NaN</td>\n",
       "      <td>Amphispiza</td>\n",
       "      <td>bilineata</td>\n",
       "      <td>Bird</td>\n",
       "      <td>Control</td>\n",
       "    </tr>\n",
       "    <tr>\n",
       "      <th>2</th>\n",
       "      <td>1987</td>\n",
       "      <td>F</td>\n",
       "      <td>32.0</td>\n",
       "      <td>162.0</td>\n",
       "      <td>Neotoma</td>\n",
       "      <td>albigula</td>\n",
       "      <td>Rodent</td>\n",
       "      <td>Control</td>\n",
       "    </tr>\n",
       "    <tr>\n",
       "      <th>3</th>\n",
       "      <td>1995</td>\n",
       "      <td>M</td>\n",
       "      <td>36.0</td>\n",
       "      <td>44.0</td>\n",
       "      <td>Dipodomys</td>\n",
       "      <td>merriami</td>\n",
       "      <td>Rodent</td>\n",
       "      <td>Control</td>\n",
       "    </tr>\n",
       "    <tr>\n",
       "      <th>4</th>\n",
       "      <td>2002</td>\n",
       "      <td>F</td>\n",
       "      <td>23.0</td>\n",
       "      <td>15.0</td>\n",
       "      <td>Chaetodipus</td>\n",
       "      <td>penicillatus</td>\n",
       "      <td>Rodent</td>\n",
       "      <td>Spectab exclosure</td>\n",
       "    </tr>\n",
       "  </tbody>\n",
       "</table>\n",
       "</div>"
      ],
      "text/plain": [
       "   year           sex  hindfoot_length  weight        genus       species  \\\n",
       "1  1991  not reported              NaN     NaN   Amphispiza     bilineata   \n",
       "2  1987             F             32.0   162.0      Neotoma      albigula   \n",
       "3  1995             M             36.0    44.0    Dipodomys      merriami   \n",
       "4  2002             F             23.0    15.0  Chaetodipus  penicillatus   \n",
       "\n",
       "     taxa          plot_type  \n",
       "1    Bird            Control  \n",
       "2  Rodent            Control  \n",
       "3  Rodent            Control  \n",
       "4  Rodent  Spectab exclosure  "
      ]
     },
     "execution_count": 60,
     "metadata": {},
     "output_type": "execute_result"
    }
   ],
   "source": [
    "# slicing using loc\n",
    "animal_df.loc[1:4]"
   ]
  },
  {
   "cell_type": "markdown",
   "metadata": {},
   "source": [
    "Here you can note one of the major differences between `iloc` and `loc`:\n",
    "the latter has inclusive start and stop bound.\n",
    "\n",
    "We can still use empty bounds:"
   ]
  },
  {
   "cell_type": "code",
   "execution_count": 61,
   "metadata": {},
   "outputs": [
    {
     "data": {
      "text/html": [
       "<div>\n",
       "<style scoped>\n",
       "    .dataframe tbody tr th:only-of-type {\n",
       "        vertical-align: middle;\n",
       "    }\n",
       "\n",
       "    .dataframe tbody tr th {\n",
       "        vertical-align: top;\n",
       "    }\n",
       "\n",
       "    .dataframe thead th {\n",
       "        text-align: right;\n",
       "    }\n",
       "</style>\n",
       "<table border=\"1\" class=\"dataframe\">\n",
       "  <thead>\n",
       "    <tr style=\"text-align: right;\">\n",
       "      <th></th>\n",
       "      <th>year</th>\n",
       "      <th>sex</th>\n",
       "      <th>hindfoot_length</th>\n",
       "      <th>weight</th>\n",
       "      <th>genus</th>\n",
       "      <th>species</th>\n",
       "      <th>taxa</th>\n",
       "      <th>plot_type</th>\n",
       "    </tr>\n",
       "  </thead>\n",
       "  <tbody>\n",
       "    <tr>\n",
       "      <th>34781</th>\n",
       "      <td>1990</td>\n",
       "      <td>M</td>\n",
       "      <td>36.0</td>\n",
       "      <td>47.0</td>\n",
       "      <td>Dipodomys</td>\n",
       "      <td>merriami</td>\n",
       "      <td>Rodent</td>\n",
       "      <td>Spectab exclosure</td>\n",
       "    </tr>\n",
       "    <tr>\n",
       "      <th>34782</th>\n",
       "      <td>1978</td>\n",
       "      <td>M</td>\n",
       "      <td>55.0</td>\n",
       "      <td>168.0</td>\n",
       "      <td>Dipodomys</td>\n",
       "      <td>spectabilis</td>\n",
       "      <td>Rodent</td>\n",
       "      <td>Spectab exclosure</td>\n",
       "    </tr>\n",
       "    <tr>\n",
       "      <th>34783</th>\n",
       "      <td>1988</td>\n",
       "      <td>F</td>\n",
       "      <td>37.0</td>\n",
       "      <td>50.0</td>\n",
       "      <td>Dipodomys</td>\n",
       "      <td>ordii</td>\n",
       "      <td>Rodent</td>\n",
       "      <td>Control</td>\n",
       "    </tr>\n",
       "    <tr>\n",
       "      <th>34784</th>\n",
       "      <td>2001</td>\n",
       "      <td>M</td>\n",
       "      <td>23.0</td>\n",
       "      <td>17.0</td>\n",
       "      <td>Chaetodipus</td>\n",
       "      <td>penicillatus</td>\n",
       "      <td>Rodent</td>\n",
       "      <td>Short-term Krat Exclosure</td>\n",
       "    </tr>\n",
       "    <tr>\n",
       "      <th>34785</th>\n",
       "      <td>1995</td>\n",
       "      <td>F</td>\n",
       "      <td>17.0</td>\n",
       "      <td>18.0</td>\n",
       "      <td>Reithrodontomys</td>\n",
       "      <td>megalotis</td>\n",
       "      <td>Rodent</td>\n",
       "      <td>Short-term Krat Exclosure</td>\n",
       "    </tr>\n",
       "  </tbody>\n",
       "</table>\n",
       "</div>"
      ],
      "text/plain": [
       "       year sex  hindfoot_length  weight            genus       species  \\\n",
       "34781  1990   M             36.0    47.0        Dipodomys      merriami   \n",
       "34782  1978   M             55.0   168.0        Dipodomys   spectabilis   \n",
       "34783  1988   F             37.0    50.0        Dipodomys         ordii   \n",
       "34784  2001   M             23.0    17.0      Chaetodipus  penicillatus   \n",
       "34785  1995   F             17.0    18.0  Reithrodontomys     megalotis   \n",
       "\n",
       "         taxa                  plot_type  \n",
       "34781  Rodent          Spectab exclosure  \n",
       "34782  Rodent          Spectab exclosure  \n",
       "34783  Rodent                    Control  \n",
       "34784  Rodent  Short-term Krat Exclosure  \n",
       "34785  Rodent  Short-term Krat Exclosure  "
      ]
     },
     "execution_count": 61,
     "metadata": {},
     "output_type": "execute_result"
    }
   ],
   "source": [
    "# empty stop boundary to indicate end of data\n",
    "animal_df.loc[34781: ]"
   ]
  },
  {
   "cell_type": "markdown",
   "metadata": {},
   "source": [
    "We can also select all columns for a specific set of rows by adding the row labels as a list:"
   ]
  },
  {
   "cell_type": "code",
   "execution_count": 62,
   "metadata": {},
   "outputs": [
    {
     "data": {
      "text/html": [
       "<div>\n",
       "<style scoped>\n",
       "    .dataframe tbody tr th:only-of-type {\n",
       "        vertical-align: middle;\n",
       "    }\n",
       "\n",
       "    .dataframe tbody tr th {\n",
       "        vertical-align: top;\n",
       "    }\n",
       "\n",
       "    .dataframe thead th {\n",
       "        text-align: right;\n",
       "    }\n",
       "</style>\n",
       "<table border=\"1\" class=\"dataframe\">\n",
       "  <thead>\n",
       "    <tr style=\"text-align: right;\">\n",
       "      <th></th>\n",
       "      <th>year</th>\n",
       "      <th>sex</th>\n",
       "      <th>hindfoot_length</th>\n",
       "      <th>weight</th>\n",
       "      <th>genus</th>\n",
       "      <th>species</th>\n",
       "      <th>taxa</th>\n",
       "      <th>plot_type</th>\n",
       "    </tr>\n",
       "  </thead>\n",
       "  <tbody>\n",
       "    <tr>\n",
       "      <th>0</th>\n",
       "      <td>1983</td>\n",
       "      <td>F</td>\n",
       "      <td>19.0</td>\n",
       "      <td>28.0</td>\n",
       "      <td>Onychomys</td>\n",
       "      <td>torridus</td>\n",
       "      <td>Rodent</td>\n",
       "      <td>Long-term Krat Exclosure</td>\n",
       "    </tr>\n",
       "    <tr>\n",
       "      <th>10</th>\n",
       "      <td>1982</td>\n",
       "      <td>F</td>\n",
       "      <td>33.0</td>\n",
       "      <td>120.0</td>\n",
       "      <td>Neotoma</td>\n",
       "      <td>albigula</td>\n",
       "      <td>Rodent</td>\n",
       "      <td>Control</td>\n",
       "    </tr>\n",
       "    <tr>\n",
       "      <th>6831</th>\n",
       "      <td>1978</td>\n",
       "      <td>F</td>\n",
       "      <td>52.0</td>\n",
       "      <td>108.0</td>\n",
       "      <td>Dipodomys</td>\n",
       "      <td>spectabilis</td>\n",
       "      <td>Rodent</td>\n",
       "      <td>Control</td>\n",
       "    </tr>\n",
       "  </tbody>\n",
       "</table>\n",
       "</div>"
      ],
      "text/plain": [
       "      year sex  hindfoot_length  weight      genus      species    taxa  \\\n",
       "0     1983   F             19.0    28.0  Onychomys     torridus  Rodent   \n",
       "10    1982   F             33.0   120.0    Neotoma     albigula  Rodent   \n",
       "6831  1978   F             52.0   108.0  Dipodomys  spectabilis  Rodent   \n",
       "\n",
       "                     plot_type  \n",
       "0     Long-term Krat Exclosure  \n",
       "10                     Control  \n",
       "6831                   Control  "
      ]
     },
     "execution_count": 62,
     "metadata": {},
     "output_type": "execute_result"
    }
   ],
   "source": [
    "# Select all columns for rows of index values specified\n",
    "animal_df.loc[[0, 10, 6831], ]"
   ]
  },
  {
   "cell_type": "markdown",
   "metadata": {},
   "source": [
    "Finally, we can use the column labels for extraction:"
   ]
  },
  {
   "cell_type": "code",
   "execution_count": 63,
   "metadata": {},
   "outputs": [
    {
     "data": {
      "text/plain": [
       "year           1983\n",
       "weight           28\n",
       "genus     Onychomys\n",
       "Name: 0, dtype: object"
      ]
     },
     "execution_count": 63,
     "metadata": {},
     "output_type": "execute_result"
    }
   ],
   "source": [
    "# select first row for specified columns\n",
    "animal_df.loc[0, [\"year\", \"weight\", \"genus\"]]"
   ]
  },
  {
   "cell_type": "code",
   "execution_count": 64,
   "metadata": {},
   "outputs": [
    {
     "data": {
      "text/html": [
       "<div>\n",
       "<style scoped>\n",
       "    .dataframe tbody tr th:only-of-type {\n",
       "        vertical-align: middle;\n",
       "    }\n",
       "\n",
       "    .dataframe tbody tr th {\n",
       "        vertical-align: top;\n",
       "    }\n",
       "\n",
       "    .dataframe thead th {\n",
       "        text-align: right;\n",
       "    }\n",
       "</style>\n",
       "<table border=\"1\" class=\"dataframe\">\n",
       "  <thead>\n",
       "    <tr style=\"text-align: right;\">\n",
       "      <th></th>\n",
       "      <th>year</th>\n",
       "      <th>weight</th>\n",
       "      <th>genus</th>\n",
       "    </tr>\n",
       "  </thead>\n",
       "  <tbody>\n",
       "    <tr>\n",
       "      <th>0</th>\n",
       "      <td>1983</td>\n",
       "      <td>28.0</td>\n",
       "      <td>Onychomys</td>\n",
       "    </tr>\n",
       "    <tr>\n",
       "      <th>1</th>\n",
       "      <td>1991</td>\n",
       "      <td>NaN</td>\n",
       "      <td>Amphispiza</td>\n",
       "    </tr>\n",
       "    <tr>\n",
       "      <th>2</th>\n",
       "      <td>1987</td>\n",
       "      <td>162.0</td>\n",
       "      <td>Neotoma</td>\n",
       "    </tr>\n",
       "    <tr>\n",
       "      <th>3</th>\n",
       "      <td>1995</td>\n",
       "      <td>44.0</td>\n",
       "      <td>Dipodomys</td>\n",
       "    </tr>\n",
       "    <tr>\n",
       "      <th>4</th>\n",
       "      <td>2002</td>\n",
       "      <td>15.0</td>\n",
       "      <td>Chaetodipus</td>\n",
       "    </tr>\n",
       "    <tr>\n",
       "      <th>5</th>\n",
       "      <td>2002</td>\n",
       "      <td>18.0</td>\n",
       "      <td>Chaetodipus</td>\n",
       "    </tr>\n",
       "  </tbody>\n",
       "</table>\n",
       "</div>"
      ],
      "text/plain": [
       "   year  weight        genus\n",
       "0  1983    28.0    Onychomys\n",
       "1  1991     NaN   Amphispiza\n",
       "2  1987   162.0      Neotoma\n",
       "3  1995    44.0    Dipodomys\n",
       "4  2002    15.0  Chaetodipus\n",
       "5  2002    18.0  Chaetodipus"
      ]
     },
     "execution_count": 64,
     "metadata": {},
     "output_type": "execute_result"
    }
   ],
   "source": [
    "# select first five rows for specified columns\n",
    "animal_df.loc[0:5, [\"year\", \"weight\", \"genus\"]]"
   ]
  },
  {
   "cell_type": "markdown",
   "metadata": {},
   "source": [
    "> #### Exercise: location\n",
    "Why doesn't the following code work? \n",
    ">\n",
    "> `animal_df.loc[2, 6]`\n",
    "\n",
    "> #### Exercise: 100\n",
    "How would you extract the last 100 rows for only year and taxa?\n",
    "\n",
    "> #### Exercise: column\n",
    "Extract the column `\"genus\"` in at least four different ways (e.g. using `[]`, `loc`, `iloc`...)\n",
    "\n",
    "So far, we've been printing the output from our subsetting and slicing to the screen \n",
    "(often using `.head()`).\n",
    "Remember that if you'd like to use these data for another purpose,\n",
    "it's possible you may want to assign these data to a new variable to further manipulate."
   ]
  },
  {
   "cell_type": "markdown",
   "metadata": {},
   "source": [
    "## Calculating summary statistics\n",
    "\n",
    "Once you've extracted your data of interest, \n",
    "you will likely want to be able to assess basic statistical features of the data.\n",
    "\n",
    "Data frames allow you to assess these features:"
   ]
  },
  {
   "cell_type": "code",
   "execution_count": 65,
   "metadata": {},
   "outputs": [
    {
     "data": {
      "text/plain": [
       "count    32283.000000\n",
       "mean        42.672428\n",
       "std         36.631259\n",
       "min          4.000000\n",
       "25%         20.000000\n",
       "50%         37.000000\n",
       "75%         48.000000\n",
       "max        280.000000\n",
       "Name: weight, dtype: float64"
      ]
     },
     "execution_count": 65,
     "metadata": {},
     "output_type": "execute_result"
    }
   ],
   "source": [
    "# calculate basic stats a single column\n",
    "animal_df.weight.describe()"
   ]
  },
  {
   "cell_type": "markdown",
   "metadata": {},
   "source": [
    "In this case, \n",
    "we've assessed a collection of summary statistics for the column \"weight\" \n",
    "using the `.describe()` function.\n",
    "\n",
    "You can access the statistics listed above individually as well:"
   ]
  },
  {
   "cell_type": "code",
   "execution_count": 66,
   "metadata": {},
   "outputs": [
    {
     "data": {
      "text/plain": [
       "4.0"
      ]
     },
     "execution_count": 66,
     "metadata": {},
     "output_type": "execute_result"
    }
   ],
   "source": [
    "# calculate only the minimum for weight\n",
    "animal_df.weight.min()"
   ]
  },
  {
   "cell_type": "markdown",
   "metadata": {},
   "source": [
    "We can also our ability to access columns to perform mathematical operations,\n",
    "such as unit conversion:"
   ]
  },
  {
   "cell_type": "code",
   "execution_count": 67,
   "metadata": {},
   "outputs": [
    {
     "data": {
      "text/plain": [
       "0    0.987654\n",
       "1         NaN\n",
       "2    5.714286\n",
       "3    1.552028\n",
       "4    0.529101\n",
       "Name: weight, dtype: float64"
      ]
     },
     "execution_count": 67,
     "metadata": {},
     "output_type": "execute_result"
    }
   ],
   "source": [
    "# convert weight column from grams to ounces\n",
    "animal_df.weight.head() / 28.35"
   ]
  },
  {
   "cell_type": "markdown",
   "metadata": {},
   "source": [
    "We can also perform a conversion on a summary statistic:"
   ]
  },
  {
   "cell_type": "code",
   "execution_count": 68,
   "metadata": {},
   "outputs": [
    {
     "data": {
      "text/plain": [
       "9.876543209876543"
      ]
     },
     "execution_count": 68,
     "metadata": {},
     "output_type": "execute_result"
    }
   ],
   "source": [
    "# convert maximum weight to ounces\n",
    "animal_df.weight.max() / 28.35"
   ]
  },
  {
   "cell_type": "markdown",
   "metadata": {},
   "source": [
    "We can add a column to our data frame to store the converted values using the square bracket notation:"
   ]
  },
  {
   "cell_type": "code",
   "execution_count": 69,
   "metadata": {},
   "outputs": [
    {
     "data": {
      "text/html": [
       "<div>\n",
       "<style scoped>\n",
       "    .dataframe tbody tr th:only-of-type {\n",
       "        vertical-align: middle;\n",
       "    }\n",
       "\n",
       "    .dataframe tbody tr th {\n",
       "        vertical-align: top;\n",
       "    }\n",
       "\n",
       "    .dataframe thead th {\n",
       "        text-align: right;\n",
       "    }\n",
       "</style>\n",
       "<table border=\"1\" class=\"dataframe\">\n",
       "  <thead>\n",
       "    <tr style=\"text-align: right;\">\n",
       "      <th></th>\n",
       "      <th>year</th>\n",
       "      <th>sex</th>\n",
       "      <th>hindfoot_length</th>\n",
       "      <th>weight</th>\n",
       "      <th>genus</th>\n",
       "      <th>species</th>\n",
       "      <th>taxa</th>\n",
       "      <th>plot_type</th>\n",
       "      <th>weight_oz</th>\n",
       "    </tr>\n",
       "  </thead>\n",
       "  <tbody>\n",
       "    <tr>\n",
       "      <th>0</th>\n",
       "      <td>1983</td>\n",
       "      <td>F</td>\n",
       "      <td>19.0</td>\n",
       "      <td>28.0</td>\n",
       "      <td>Onychomys</td>\n",
       "      <td>torridus</td>\n",
       "      <td>Rodent</td>\n",
       "      <td>Long-term Krat Exclosure</td>\n",
       "      <td>0.987654</td>\n",
       "    </tr>\n",
       "    <tr>\n",
       "      <th>1</th>\n",
       "      <td>1991</td>\n",
       "      <td>not reported</td>\n",
       "      <td>NaN</td>\n",
       "      <td>NaN</td>\n",
       "      <td>Amphispiza</td>\n",
       "      <td>bilineata</td>\n",
       "      <td>Bird</td>\n",
       "      <td>Control</td>\n",
       "      <td>NaN</td>\n",
       "    </tr>\n",
       "    <tr>\n",
       "      <th>2</th>\n",
       "      <td>1987</td>\n",
       "      <td>F</td>\n",
       "      <td>32.0</td>\n",
       "      <td>162.0</td>\n",
       "      <td>Neotoma</td>\n",
       "      <td>albigula</td>\n",
       "      <td>Rodent</td>\n",
       "      <td>Control</td>\n",
       "      <td>5.714286</td>\n",
       "    </tr>\n",
       "    <tr>\n",
       "      <th>3</th>\n",
       "      <td>1995</td>\n",
       "      <td>M</td>\n",
       "      <td>36.0</td>\n",
       "      <td>44.0</td>\n",
       "      <td>Dipodomys</td>\n",
       "      <td>merriami</td>\n",
       "      <td>Rodent</td>\n",
       "      <td>Control</td>\n",
       "      <td>1.552028</td>\n",
       "    </tr>\n",
       "    <tr>\n",
       "      <th>4</th>\n",
       "      <td>2002</td>\n",
       "      <td>F</td>\n",
       "      <td>23.0</td>\n",
       "      <td>15.0</td>\n",
       "      <td>Chaetodipus</td>\n",
       "      <td>penicillatus</td>\n",
       "      <td>Rodent</td>\n",
       "      <td>Spectab exclosure</td>\n",
       "      <td>0.529101</td>\n",
       "    </tr>\n",
       "  </tbody>\n",
       "</table>\n",
       "</div>"
      ],
      "text/plain": [
       "   year           sex  hindfoot_length  weight        genus       species  \\\n",
       "0  1983             F             19.0    28.0    Onychomys      torridus   \n",
       "1  1991  not reported              NaN     NaN   Amphispiza     bilineata   \n",
       "2  1987             F             32.0   162.0      Neotoma      albigula   \n",
       "3  1995             M             36.0    44.0    Dipodomys      merriami   \n",
       "4  2002             F             23.0    15.0  Chaetodipus  penicillatus   \n",
       "\n",
       "     taxa                 plot_type  weight_oz  \n",
       "0  Rodent  Long-term Krat Exclosure   0.987654  \n",
       "1    Bird                   Control        NaN  \n",
       "2  Rodent                   Control   5.714286  \n",
       "3  Rodent                   Control   1.552028  \n",
       "4  Rodent         Spectab exclosure   0.529101  "
      ]
     },
     "execution_count": 69,
     "metadata": {},
     "output_type": "execute_result"
    }
   ],
   "source": [
    "# add converted column\n",
    "animal_df['weight_oz'] = animal_df.weight / 28.35\n",
    "animal_df.head()"
   ]
  },
  {
   "cell_type": "code",
   "execution_count": 70,
   "metadata": {},
   "outputs": [
    {
     "data": {
      "text/plain": [
       "9.876543209876543"
      ]
     },
     "execution_count": 70,
     "metadata": {},
     "output_type": "execute_result"
    }
   ],
   "source": [
    "# max of weight-converted-to-oz equivalent to max-of-weight converted to oz\n",
    "animal_df.weight_oz.max()"
   ]
  },
  {
   "cell_type": "markdown",
   "metadata": {},
   "source": [
    "> #### Exercise: object\n",
    "What type of summary statistics do you get for object data?\n",
    "\n",
    "> #### Exercise: deviation\n",
    "How would you extract only the standard deviation for weight?\n",
    "\n",
    "> #### Exercise: new column\n",
    "Add a column `hindfoot_in` that contains hindfoot length in inches (it is currently in centimeters)"
   ]
  },
  {
   "cell_type": "code",
   "execution_count": 71,
   "metadata": {},
   "outputs": [
    {
     "data": {
      "text/plain": [
       "count         34786\n",
       "unique           26\n",
       "top       Dipodomys\n",
       "freq          16167\n",
       "Name: genus, dtype: object"
      ]
     },
     "execution_count": 71,
     "metadata": {},
     "output_type": "execute_result"
    }
   ],
   "source": [
    "# summary for string data\n",
    "animal_df.genus.describe()"
   ]
  },
  {
   "cell_type": "markdown",
   "metadata": {},
   "source": [
    "# Data manipulation"
   ]
  },
  {
   "cell_type": "markdown",
   "metadata": {},
   "source": [
    "## Conditional subsetting\n",
    "\n",
    "Now that we're set up with data and tools,\n",
    "we're going to explore conditional subsetting.\n",
    "This means extracting particular rows based on a criteria.\n",
    "\n",
    "For example, \n",
    "we may want to find all data collected in 1998.\n",
    "We may be tempted to try something like `animal_df.year == 1998`,\n",
    "but the output we get isn't quite what we wanted: the results are logical data (true/false).\n",
    "\n",
    "> We used double equal signs (`==`) to indicate mathematical equivalency,\n",
    "and to differentiate from variable assignment and specifying parameters for arguments\n",
    "(like in the last lesson with `sep=` for loading data)."
   ]
  },
  {
   "cell_type": "code",
   "execution_count": 72,
   "metadata": {},
   "outputs": [
    {
     "data": {
      "text/plain": [
       "0        False\n",
       "1        False\n",
       "2        False\n",
       "3        False\n",
       "4        False\n",
       "         ...  \n",
       "34781    False\n",
       "34782    False\n",
       "34783    False\n",
       "34784    False\n",
       "34785    False\n",
       "Name: year, Length: 34786, dtype: bool"
      ]
     },
     "execution_count": 72,
     "metadata": {},
     "output_type": "execute_result"
    }
   ],
   "source": [
    "# test equality\n",
    "animal_df.year == 1998"
   ]
  },
  {
   "cell_type": "markdown",
   "metadata": {},
   "source": [
    "However, we can combine this information with what we know about data subsetting:"
   ]
  },
  {
   "cell_type": "code",
   "execution_count": 73,
   "metadata": {},
   "outputs": [
    {
     "data": {
      "text/html": [
       "<div>\n",
       "<style scoped>\n",
       "    .dataframe tbody tr th:only-of-type {\n",
       "        vertical-align: middle;\n",
       "    }\n",
       "\n",
       "    .dataframe tbody tr th {\n",
       "        vertical-align: top;\n",
       "    }\n",
       "\n",
       "    .dataframe thead th {\n",
       "        text-align: right;\n",
       "    }\n",
       "</style>\n",
       "<table border=\"1\" class=\"dataframe\">\n",
       "  <thead>\n",
       "    <tr style=\"text-align: right;\">\n",
       "      <th></th>\n",
       "      <th>year</th>\n",
       "      <th>sex</th>\n",
       "      <th>hindfoot_length</th>\n",
       "      <th>weight</th>\n",
       "      <th>genus</th>\n",
       "      <th>species</th>\n",
       "      <th>taxa</th>\n",
       "      <th>plot_type</th>\n",
       "      <th>weight_oz</th>\n",
       "    </tr>\n",
       "  </thead>\n",
       "  <tbody>\n",
       "    <tr>\n",
       "      <th>17</th>\n",
       "      <td>1998</td>\n",
       "      <td>M</td>\n",
       "      <td>36.0</td>\n",
       "      <td>49.0</td>\n",
       "      <td>Dipodomys</td>\n",
       "      <td>merriami</td>\n",
       "      <td>Rodent</td>\n",
       "      <td>Control</td>\n",
       "      <td>1.728395</td>\n",
       "    </tr>\n",
       "    <tr>\n",
       "      <th>46</th>\n",
       "      <td>1998</td>\n",
       "      <td>M</td>\n",
       "      <td>34.0</td>\n",
       "      <td>39.0</td>\n",
       "      <td>Dipodomys</td>\n",
       "      <td>merriami</td>\n",
       "      <td>Rodent</td>\n",
       "      <td>Control</td>\n",
       "      <td>1.375661</td>\n",
       "    </tr>\n",
       "    <tr>\n",
       "      <th>118</th>\n",
       "      <td>1998</td>\n",
       "      <td>F</td>\n",
       "      <td>36.0</td>\n",
       "      <td>47.0</td>\n",
       "      <td>Dipodomys</td>\n",
       "      <td>merriami</td>\n",
       "      <td>Rodent</td>\n",
       "      <td>Control</td>\n",
       "      <td>1.657848</td>\n",
       "    </tr>\n",
       "    <tr>\n",
       "      <th>121</th>\n",
       "      <td>1998</td>\n",
       "      <td>F</td>\n",
       "      <td>25.0</td>\n",
       "      <td>34.0</td>\n",
       "      <td>Chaetodipus</td>\n",
       "      <td>baileyi</td>\n",
       "      <td>Rodent</td>\n",
       "      <td>Short-term Krat Exclosure</td>\n",
       "      <td>1.199295</td>\n",
       "    </tr>\n",
       "    <tr>\n",
       "      <th>126</th>\n",
       "      <td>1998</td>\n",
       "      <td>F</td>\n",
       "      <td>36.0</td>\n",
       "      <td>46.0</td>\n",
       "      <td>Dipodomys</td>\n",
       "      <td>merriami</td>\n",
       "      <td>Rodent</td>\n",
       "      <td>Control</td>\n",
       "      <td>1.622575</td>\n",
       "    </tr>\n",
       "  </tbody>\n",
       "</table>\n",
       "</div>"
      ],
      "text/plain": [
       "     year sex  hindfoot_length  weight        genus   species    taxa  \\\n",
       "17   1998   M             36.0    49.0    Dipodomys  merriami  Rodent   \n",
       "46   1998   M             34.0    39.0    Dipodomys  merriami  Rodent   \n",
       "118  1998   F             36.0    47.0    Dipodomys  merriami  Rodent   \n",
       "121  1998   F             25.0    34.0  Chaetodipus   baileyi  Rodent   \n",
       "126  1998   F             36.0    46.0    Dipodomys  merriami  Rodent   \n",
       "\n",
       "                     plot_type  weight_oz  \n",
       "17                     Control   1.728395  \n",
       "46                     Control   1.375661  \n",
       "118                    Control   1.657848  \n",
       "121  Short-term Krat Exclosure   1.199295  \n",
       "126                    Control   1.622575  "
      ]
     },
     "execution_count": 73,
     "metadata": {},
     "output_type": "execute_result"
    }
   ],
   "source": [
    "# conditionally subset all samples collected in 1998\n",
    "animal_df[animal_df.year == 1998].head()"
   ]
  },
  {
   "cell_type": "markdown",
   "metadata": {},
   "source": [
    "We can invert the select (e.g., identify samples *not* collected in 1998)\n",
    "using `-`:"
   ]
  },
  {
   "cell_type": "code",
   "execution_count": 74,
   "metadata": {},
   "outputs": [
    {
     "data": {
      "text/html": [
       "<div>\n",
       "<style scoped>\n",
       "    .dataframe tbody tr th:only-of-type {\n",
       "        vertical-align: middle;\n",
       "    }\n",
       "\n",
       "    .dataframe tbody tr th {\n",
       "        vertical-align: top;\n",
       "    }\n",
       "\n",
       "    .dataframe thead th {\n",
       "        text-align: right;\n",
       "    }\n",
       "</style>\n",
       "<table border=\"1\" class=\"dataframe\">\n",
       "  <thead>\n",
       "    <tr style=\"text-align: right;\">\n",
       "      <th></th>\n",
       "      <th>year</th>\n",
       "      <th>sex</th>\n",
       "      <th>hindfoot_length</th>\n",
       "      <th>weight</th>\n",
       "      <th>genus</th>\n",
       "      <th>species</th>\n",
       "      <th>taxa</th>\n",
       "      <th>plot_type</th>\n",
       "      <th>weight_oz</th>\n",
       "    </tr>\n",
       "  </thead>\n",
       "  <tbody>\n",
       "    <tr>\n",
       "      <th>0</th>\n",
       "      <td>1983</td>\n",
       "      <td>F</td>\n",
       "      <td>19.0</td>\n",
       "      <td>28.0</td>\n",
       "      <td>Onychomys</td>\n",
       "      <td>torridus</td>\n",
       "      <td>Rodent</td>\n",
       "      <td>Long-term Krat Exclosure</td>\n",
       "      <td>0.987654</td>\n",
       "    </tr>\n",
       "    <tr>\n",
       "      <th>1</th>\n",
       "      <td>1991</td>\n",
       "      <td>not reported</td>\n",
       "      <td>NaN</td>\n",
       "      <td>NaN</td>\n",
       "      <td>Amphispiza</td>\n",
       "      <td>bilineata</td>\n",
       "      <td>Bird</td>\n",
       "      <td>Control</td>\n",
       "      <td>NaN</td>\n",
       "    </tr>\n",
       "    <tr>\n",
       "      <th>2</th>\n",
       "      <td>1987</td>\n",
       "      <td>F</td>\n",
       "      <td>32.0</td>\n",
       "      <td>162.0</td>\n",
       "      <td>Neotoma</td>\n",
       "      <td>albigula</td>\n",
       "      <td>Rodent</td>\n",
       "      <td>Control</td>\n",
       "      <td>5.714286</td>\n",
       "    </tr>\n",
       "    <tr>\n",
       "      <th>3</th>\n",
       "      <td>1995</td>\n",
       "      <td>M</td>\n",
       "      <td>36.0</td>\n",
       "      <td>44.0</td>\n",
       "      <td>Dipodomys</td>\n",
       "      <td>merriami</td>\n",
       "      <td>Rodent</td>\n",
       "      <td>Control</td>\n",
       "      <td>1.552028</td>\n",
       "    </tr>\n",
       "    <tr>\n",
       "      <th>4</th>\n",
       "      <td>2002</td>\n",
       "      <td>F</td>\n",
       "      <td>23.0</td>\n",
       "      <td>15.0</td>\n",
       "      <td>Chaetodipus</td>\n",
       "      <td>penicillatus</td>\n",
       "      <td>Rodent</td>\n",
       "      <td>Spectab exclosure</td>\n",
       "      <td>0.529101</td>\n",
       "    </tr>\n",
       "  </tbody>\n",
       "</table>\n",
       "</div>"
      ],
      "text/plain": [
       "   year           sex  hindfoot_length  weight        genus       species  \\\n",
       "0  1983             F             19.0    28.0    Onychomys      torridus   \n",
       "1  1991  not reported              NaN     NaN   Amphispiza     bilineata   \n",
       "2  1987             F             32.0   162.0      Neotoma      albigula   \n",
       "3  1995             M             36.0    44.0    Dipodomys      merriami   \n",
       "4  2002             F             23.0    15.0  Chaetodipus  penicillatus   \n",
       "\n",
       "     taxa                 plot_type  weight_oz  \n",
       "0  Rodent  Long-term Krat Exclosure   0.987654  \n",
       "1    Bird                   Control        NaN  \n",
       "2  Rodent                   Control   5.714286  \n",
       "3  Rodent                   Control   1.552028  \n",
       "4  Rodent         Spectab exclosure   0.529101  "
      ]
     },
     "execution_count": 74,
     "metadata": {},
     "output_type": "execute_result"
    }
   ],
   "source": [
    "# conditionally subset all samples NOT collected in 1998\n",
    "animal_df[-(animal_df.year == 1998)].head()"
   ]
  },
  {
   "cell_type": "markdown",
   "metadata": {},
   "source": [
    "Typically we would instead use the shorter notation `!=` for \"not equal\":"
   ]
  },
  {
   "cell_type": "code",
   "execution_count": 75,
   "metadata": {},
   "outputs": [
    {
     "data": {
      "text/html": [
       "<div>\n",
       "<style scoped>\n",
       "    .dataframe tbody tr th:only-of-type {\n",
       "        vertical-align: middle;\n",
       "    }\n",
       "\n",
       "    .dataframe tbody tr th {\n",
       "        vertical-align: top;\n",
       "    }\n",
       "\n",
       "    .dataframe thead th {\n",
       "        text-align: right;\n",
       "    }\n",
       "</style>\n",
       "<table border=\"1\" class=\"dataframe\">\n",
       "  <thead>\n",
       "    <tr style=\"text-align: right;\">\n",
       "      <th></th>\n",
       "      <th>year</th>\n",
       "      <th>sex</th>\n",
       "      <th>hindfoot_length</th>\n",
       "      <th>weight</th>\n",
       "      <th>genus</th>\n",
       "      <th>species</th>\n",
       "      <th>taxa</th>\n",
       "      <th>plot_type</th>\n",
       "      <th>weight_oz</th>\n",
       "    </tr>\n",
       "  </thead>\n",
       "  <tbody>\n",
       "    <tr>\n",
       "      <th>0</th>\n",
       "      <td>1983</td>\n",
       "      <td>F</td>\n",
       "      <td>19.0</td>\n",
       "      <td>28.0</td>\n",
       "      <td>Onychomys</td>\n",
       "      <td>torridus</td>\n",
       "      <td>Rodent</td>\n",
       "      <td>Long-term Krat Exclosure</td>\n",
       "      <td>0.987654</td>\n",
       "    </tr>\n",
       "    <tr>\n",
       "      <th>1</th>\n",
       "      <td>1991</td>\n",
       "      <td>not reported</td>\n",
       "      <td>NaN</td>\n",
       "      <td>NaN</td>\n",
       "      <td>Amphispiza</td>\n",
       "      <td>bilineata</td>\n",
       "      <td>Bird</td>\n",
       "      <td>Control</td>\n",
       "      <td>NaN</td>\n",
       "    </tr>\n",
       "    <tr>\n",
       "      <th>2</th>\n",
       "      <td>1987</td>\n",
       "      <td>F</td>\n",
       "      <td>32.0</td>\n",
       "      <td>162.0</td>\n",
       "      <td>Neotoma</td>\n",
       "      <td>albigula</td>\n",
       "      <td>Rodent</td>\n",
       "      <td>Control</td>\n",
       "      <td>5.714286</td>\n",
       "    </tr>\n",
       "    <tr>\n",
       "      <th>3</th>\n",
       "      <td>1995</td>\n",
       "      <td>M</td>\n",
       "      <td>36.0</td>\n",
       "      <td>44.0</td>\n",
       "      <td>Dipodomys</td>\n",
       "      <td>merriami</td>\n",
       "      <td>Rodent</td>\n",
       "      <td>Control</td>\n",
       "      <td>1.552028</td>\n",
       "    </tr>\n",
       "    <tr>\n",
       "      <th>4</th>\n",
       "      <td>2002</td>\n",
       "      <td>F</td>\n",
       "      <td>23.0</td>\n",
       "      <td>15.0</td>\n",
       "      <td>Chaetodipus</td>\n",
       "      <td>penicillatus</td>\n",
       "      <td>Rodent</td>\n",
       "      <td>Spectab exclosure</td>\n",
       "      <td>0.529101</td>\n",
       "    </tr>\n",
       "  </tbody>\n",
       "</table>\n",
       "</div>"
      ],
      "text/plain": [
       "   year           sex  hindfoot_length  weight        genus       species  \\\n",
       "0  1983             F             19.0    28.0    Onychomys      torridus   \n",
       "1  1991  not reported              NaN     NaN   Amphispiza     bilineata   \n",
       "2  1987             F             32.0   162.0      Neotoma      albigula   \n",
       "3  1995             M             36.0    44.0    Dipodomys      merriami   \n",
       "4  2002             F             23.0    15.0  Chaetodipus  penicillatus   \n",
       "\n",
       "     taxa                 plot_type  weight_oz  \n",
       "0  Rodent  Long-term Krat Exclosure   0.987654  \n",
       "1    Bird                   Control        NaN  \n",
       "2  Rodent                   Control   5.714286  \n",
       "3  Rodent                   Control   1.552028  \n",
       "4  Rodent         Spectab exclosure   0.529101  "
      ]
     },
     "execution_count": 75,
     "metadata": {},
     "output_type": "execute_result"
    }
   ],
   "source": [
    "# shorter notation for not equal\n",
    "animal_df[animal_df.year != 1998].head()"
   ]
  },
  {
   "cell_type": "markdown",
   "metadata": {},
   "source": [
    "We can combine multiple criteria into the same filter:"
   ]
  },
  {
   "cell_type": "code",
   "execution_count": 76,
   "metadata": {},
   "outputs": [
    {
     "data": {
      "text/html": [
       "<div>\n",
       "<style scoped>\n",
       "    .dataframe tbody tr th:only-of-type {\n",
       "        vertical-align: middle;\n",
       "    }\n",
       "\n",
       "    .dataframe tbody tr th {\n",
       "        vertical-align: top;\n",
       "    }\n",
       "\n",
       "    .dataframe thead th {\n",
       "        text-align: right;\n",
       "    }\n",
       "</style>\n",
       "<table border=\"1\" class=\"dataframe\">\n",
       "  <thead>\n",
       "    <tr style=\"text-align: right;\">\n",
       "      <th></th>\n",
       "      <th>year</th>\n",
       "      <th>sex</th>\n",
       "      <th>hindfoot_length</th>\n",
       "      <th>weight</th>\n",
       "      <th>genus</th>\n",
       "      <th>species</th>\n",
       "      <th>taxa</th>\n",
       "      <th>plot_type</th>\n",
       "      <th>weight_oz</th>\n",
       "    </tr>\n",
       "  </thead>\n",
       "  <tbody>\n",
       "    <tr>\n",
       "      <th>11</th>\n",
       "      <td>2000</td>\n",
       "      <td>M</td>\n",
       "      <td>36.0</td>\n",
       "      <td>46.0</td>\n",
       "      <td>Dipodomys</td>\n",
       "      <td>merriami</td>\n",
       "      <td>Rodent</td>\n",
       "      <td>Control</td>\n",
       "      <td>1.622575</td>\n",
       "    </tr>\n",
       "    <tr>\n",
       "      <th>17</th>\n",
       "      <td>1998</td>\n",
       "      <td>M</td>\n",
       "      <td>36.0</td>\n",
       "      <td>49.0</td>\n",
       "      <td>Dipodomys</td>\n",
       "      <td>merriami</td>\n",
       "      <td>Rodent</td>\n",
       "      <td>Control</td>\n",
       "      <td>1.728395</td>\n",
       "    </tr>\n",
       "    <tr>\n",
       "      <th>29</th>\n",
       "      <td>2000</td>\n",
       "      <td>F</td>\n",
       "      <td>35.0</td>\n",
       "      <td>37.0</td>\n",
       "      <td>Dipodomys</td>\n",
       "      <td>merriami</td>\n",
       "      <td>Rodent</td>\n",
       "      <td>Control</td>\n",
       "      <td>1.305115</td>\n",
       "    </tr>\n",
       "    <tr>\n",
       "      <th>39</th>\n",
       "      <td>2000</td>\n",
       "      <td>M</td>\n",
       "      <td>22.0</td>\n",
       "      <td>16.0</td>\n",
       "      <td>Chaetodipus</td>\n",
       "      <td>penicillatus</td>\n",
       "      <td>Rodent</td>\n",
       "      <td>Control</td>\n",
       "      <td>0.564374</td>\n",
       "    </tr>\n",
       "    <tr>\n",
       "      <th>46</th>\n",
       "      <td>1998</td>\n",
       "      <td>M</td>\n",
       "      <td>34.0</td>\n",
       "      <td>39.0</td>\n",
       "      <td>Dipodomys</td>\n",
       "      <td>merriami</td>\n",
       "      <td>Rodent</td>\n",
       "      <td>Control</td>\n",
       "      <td>1.375661</td>\n",
       "    </tr>\n",
       "  </tbody>\n",
       "</table>\n",
       "</div>"
      ],
      "text/plain": [
       "    year sex  hindfoot_length  weight        genus       species    taxa  \\\n",
       "11  2000   M             36.0    46.0    Dipodomys      merriami  Rodent   \n",
       "17  1998   M             36.0    49.0    Dipodomys      merriami  Rodent   \n",
       "29  2000   F             35.0    37.0    Dipodomys      merriami  Rodent   \n",
       "39  2000   M             22.0    16.0  Chaetodipus  penicillatus  Rodent   \n",
       "46  1998   M             34.0    39.0    Dipodomys      merriami  Rodent   \n",
       "\n",
       "   plot_type  weight_oz  \n",
       "11   Control   1.622575  \n",
       "17   Control   1.728395  \n",
       "29   Control   1.305115  \n",
       "39   Control   0.564374  \n",
       "46   Control   1.375661  "
      ]
     },
     "execution_count": 76,
     "metadata": {},
     "output_type": "execute_result"
    }
   ],
   "source": [
    "# extract all samples collected between 1998 and 2000\n",
    "animal_df[(animal_df.year >= 1998) & (animal_df.year <= 2000)].head()"
   ]
  },
  {
   "cell_type": "markdown",
   "metadata": {},
   "source": [
    "In the example above, the ampersand (`&`) represents *AND*, \n",
    "meaning any value must meet *both* conditions.\n",
    "We can include a vertical pipe (`|`), representing *OR*,\n",
    "meaning a value must meet *at least one* condition."
   ]
  },
  {
   "cell_type": "code",
   "execution_count": 77,
   "metadata": {},
   "outputs": [
    {
     "data": {
      "text/html": [
       "<div>\n",
       "<style scoped>\n",
       "    .dataframe tbody tr th:only-of-type {\n",
       "        vertical-align: middle;\n",
       "    }\n",
       "\n",
       "    .dataframe tbody tr th {\n",
       "        vertical-align: top;\n",
       "    }\n",
       "\n",
       "    .dataframe thead th {\n",
       "        text-align: right;\n",
       "    }\n",
       "</style>\n",
       "<table border=\"1\" class=\"dataframe\">\n",
       "  <thead>\n",
       "    <tr style=\"text-align: right;\">\n",
       "      <th></th>\n",
       "      <th>year</th>\n",
       "      <th>sex</th>\n",
       "      <th>hindfoot_length</th>\n",
       "      <th>weight</th>\n",
       "      <th>genus</th>\n",
       "      <th>species</th>\n",
       "      <th>taxa</th>\n",
       "      <th>plot_type</th>\n",
       "      <th>weight_oz</th>\n",
       "    </tr>\n",
       "  </thead>\n",
       "  <tbody>\n",
       "    <tr>\n",
       "      <th>17</th>\n",
       "      <td>1998</td>\n",
       "      <td>M</td>\n",
       "      <td>36.0</td>\n",
       "      <td>49.0</td>\n",
       "      <td>Dipodomys</td>\n",
       "      <td>merriami</td>\n",
       "      <td>Rodent</td>\n",
       "      <td>Control</td>\n",
       "      <td>1.728395</td>\n",
       "    </tr>\n",
       "    <tr>\n",
       "      <th>46</th>\n",
       "      <td>1998</td>\n",
       "      <td>M</td>\n",
       "      <td>34.0</td>\n",
       "      <td>39.0</td>\n",
       "      <td>Dipodomys</td>\n",
       "      <td>merriami</td>\n",
       "      <td>Rodent</td>\n",
       "      <td>Control</td>\n",
       "      <td>1.375661</td>\n",
       "    </tr>\n",
       "    <tr>\n",
       "      <th>61</th>\n",
       "      <td>1999</td>\n",
       "      <td>not reported</td>\n",
       "      <td>NaN</td>\n",
       "      <td>NaN</td>\n",
       "      <td>Ammospermophilus</td>\n",
       "      <td>harrisi</td>\n",
       "      <td>Rodent</td>\n",
       "      <td>Control</td>\n",
       "      <td>NaN</td>\n",
       "    </tr>\n",
       "    <tr>\n",
       "      <th>69</th>\n",
       "      <td>1999</td>\n",
       "      <td>F</td>\n",
       "      <td>22.0</td>\n",
       "      <td>12.0</td>\n",
       "      <td>Chaetodipus</td>\n",
       "      <td>penicillatus</td>\n",
       "      <td>Rodent</td>\n",
       "      <td>Control</td>\n",
       "      <td>0.423280</td>\n",
       "    </tr>\n",
       "    <tr>\n",
       "      <th>73</th>\n",
       "      <td>1999</td>\n",
       "      <td>M</td>\n",
       "      <td>36.0</td>\n",
       "      <td>50.0</td>\n",
       "      <td>Dipodomys</td>\n",
       "      <td>merriami</td>\n",
       "      <td>Rodent</td>\n",
       "      <td>Spectab exclosure</td>\n",
       "      <td>1.763668</td>\n",
       "    </tr>\n",
       "  </tbody>\n",
       "</table>\n",
       "</div>"
      ],
      "text/plain": [
       "    year           sex  hindfoot_length  weight             genus  \\\n",
       "17  1998             M             36.0    49.0         Dipodomys   \n",
       "46  1998             M             34.0    39.0         Dipodomys   \n",
       "61  1999  not reported              NaN     NaN  Ammospermophilus   \n",
       "69  1999             F             22.0    12.0       Chaetodipus   \n",
       "73  1999             M             36.0    50.0         Dipodomys   \n",
       "\n",
       "         species    taxa          plot_type  weight_oz  \n",
       "17      merriami  Rodent            Control   1.728395  \n",
       "46      merriami  Rodent            Control   1.375661  \n",
       "61       harrisi  Rodent            Control        NaN  \n",
       "69  penicillatus  Rodent            Control   0.423280  \n",
       "73      merriami  Rodent  Spectab exclosure   1.763668  "
      ]
     },
     "execution_count": 77,
     "metadata": {},
     "output_type": "execute_result"
    }
   ],
   "source": [
    "# extract all data for samples collected in 1998 or 1999\n",
    "animal_df[(animal_df.year == 1998) | (animal_df.year == 1999)].head()"
   ]
  },
  {
   "cell_type": "markdown",
   "metadata": {},
   "source": [
    "> #### Exercise: conditional\n",
    "Print to the screen all data from `animal_df` for only kangaroo rats (column `genus` equals `'Dipodomys'`)\n",
    "\n",
    "> #### Exercise: combining conditions\n",
    "Print to the screen all data from `animal_df` for only kangaroo rats that weigh more than 170 grams (`weight`)\n",
    "\n",
    "> #### Exercise: negative conditions\n",
    "Print to the screen all data from `animal_df` *except for* kangaroo rats that weigh more than 170 grams"
   ]
  },
  {
   "cell_type": "markdown",
   "metadata": {},
   "source": [
    "## Grouping data\n",
    "\n",
    "Another useful feature of `pandas` is the ability to group data by categories,\n",
    "so you can then summarize other quantitative variables in the dataset.\n",
    "\n",
    "First, we can explore what categories exist for our `sex` column:"
   ]
  },
  {
   "cell_type": "code",
   "execution_count": 78,
   "metadata": {},
   "outputs": [
    {
     "data": {
      "text/plain": [
       "array(['F', 'not reported', 'M'], dtype=object)"
      ]
     },
     "execution_count": 78,
     "metadata": {},
     "output_type": "execute_result"
    }
   ],
   "source": [
    "# identify unique elements in a column\n",
    "pd.unique(animal_df[\"sex\"])"
   ]
  },
  {
   "cell_type": "markdown",
   "metadata": {},
   "source": [
    "Remember that the code above is synonymous to `pd.unique(animal_df.sex)`, \n",
    "which uses a different syntax to access the column.\n",
    "\n",
    "Now that we know the categories in `sex`,\n",
    "we may be interested in summarizing quantitative variables based on these categories.\n",
    "We can assign our grouped data to a new variable:"
   ]
  },
  {
   "cell_type": "code",
   "execution_count": 79,
   "metadata": {},
   "outputs": [],
   "source": [
    "# group data by sex \n",
    "grouped_data = animal_df.groupby(\"sex\")"
   ]
  },
  {
   "cell_type": "markdown",
   "metadata": {},
   "source": [
    "`grouped_data` represents the same data, but with the data oriented according to categories\n",
    "(though it isn't interpretable by humans, so it's not useful to print it to the screen).\n",
    "\n",
    "> In the command above, if we wanted to specify sex using `.` we would have to write `animal_df.groupby(animal_df.sex)` because of the syntax required by `groupby`.\n",
    "\n",
    "We can then calculate summary statistics for our grouped data:"
   ]
  },
  {
   "cell_type": "code",
   "execution_count": 80,
   "metadata": {},
   "outputs": [
    {
     "data": {
      "text/html": [
       "<div>\n",
       "<style scoped>\n",
       "    .dataframe tbody tr th:only-of-type {\n",
       "        vertical-align: middle;\n",
       "    }\n",
       "\n",
       "    .dataframe tbody tr th {\n",
       "        vertical-align: top;\n",
       "    }\n",
       "\n",
       "    .dataframe thead tr th {\n",
       "        text-align: left;\n",
       "    }\n",
       "\n",
       "    .dataframe thead tr:last-of-type th {\n",
       "        text-align: right;\n",
       "    }\n",
       "</style>\n",
       "<table border=\"1\" class=\"dataframe\">\n",
       "  <thead>\n",
       "    <tr>\n",
       "      <th></th>\n",
       "      <th colspan=\"8\" halign=\"left\">year</th>\n",
       "      <th colspan=\"2\" halign=\"left\">hindfoot_length</th>\n",
       "      <th>...</th>\n",
       "      <th colspan=\"2\" halign=\"left\">weight</th>\n",
       "      <th colspan=\"8\" halign=\"left\">weight_oz</th>\n",
       "    </tr>\n",
       "    <tr>\n",
       "      <th></th>\n",
       "      <th>count</th>\n",
       "      <th>mean</th>\n",
       "      <th>std</th>\n",
       "      <th>min</th>\n",
       "      <th>25%</th>\n",
       "      <th>50%</th>\n",
       "      <th>75%</th>\n",
       "      <th>max</th>\n",
       "      <th>count</th>\n",
       "      <th>mean</th>\n",
       "      <th>...</th>\n",
       "      <th>75%</th>\n",
       "      <th>max</th>\n",
       "      <th>count</th>\n",
       "      <th>mean</th>\n",
       "      <th>std</th>\n",
       "      <th>min</th>\n",
       "      <th>25%</th>\n",
       "      <th>50%</th>\n",
       "      <th>75%</th>\n",
       "      <th>max</th>\n",
       "    </tr>\n",
       "    <tr>\n",
       "      <th>sex</th>\n",
       "      <th></th>\n",
       "      <th></th>\n",
       "      <th></th>\n",
       "      <th></th>\n",
       "      <th></th>\n",
       "      <th></th>\n",
       "      <th></th>\n",
       "      <th></th>\n",
       "      <th></th>\n",
       "      <th></th>\n",
       "      <th></th>\n",
       "      <th></th>\n",
       "      <th></th>\n",
       "      <th></th>\n",
       "      <th></th>\n",
       "      <th></th>\n",
       "      <th></th>\n",
       "      <th></th>\n",
       "      <th></th>\n",
       "      <th></th>\n",
       "      <th></th>\n",
       "    </tr>\n",
       "  </thead>\n",
       "  <tbody>\n",
       "    <tr>\n",
       "      <th>F</th>\n",
       "      <td>15690.0</td>\n",
       "      <td>1990.644997</td>\n",
       "      <td>7.598725</td>\n",
       "      <td>1977.0</td>\n",
       "      <td>1984.0</td>\n",
       "      <td>1990.0</td>\n",
       "      <td>1997.0</td>\n",
       "      <td>2002.0</td>\n",
       "      <td>14894.0</td>\n",
       "      <td>28.836780</td>\n",
       "      <td>...</td>\n",
       "      <td>46.0</td>\n",
       "      <td>274.0</td>\n",
       "      <td>15303.0</td>\n",
       "      <td>1.487498</td>\n",
       "      <td>1.299752</td>\n",
       "      <td>0.141093</td>\n",
       "      <td>0.705467</td>\n",
       "      <td>1.199295</td>\n",
       "      <td>1.622575</td>\n",
       "      <td>9.664903</td>\n",
       "    </tr>\n",
       "    <tr>\n",
       "      <th>M</th>\n",
       "      <td>17348.0</td>\n",
       "      <td>1990.480401</td>\n",
       "      <td>7.403655</td>\n",
       "      <td>1977.0</td>\n",
       "      <td>1984.0</td>\n",
       "      <td>1990.0</td>\n",
       "      <td>1997.0</td>\n",
       "      <td>2002.0</td>\n",
       "      <td>16476.0</td>\n",
       "      <td>29.709578</td>\n",
       "      <td>...</td>\n",
       "      <td>49.0</td>\n",
       "      <td>280.0</td>\n",
       "      <td>16879.0</td>\n",
       "      <td>1.516592</td>\n",
       "      <td>1.276366</td>\n",
       "      <td>0.141093</td>\n",
       "      <td>0.705467</td>\n",
       "      <td>1.375661</td>\n",
       "      <td>1.728395</td>\n",
       "      <td>9.876543</td>\n",
       "    </tr>\n",
       "    <tr>\n",
       "      <th>not reported</th>\n",
       "      <td>1748.0</td>\n",
       "      <td>1989.310069</td>\n",
       "      <td>6.800870</td>\n",
       "      <td>1977.0</td>\n",
       "      <td>1984.0</td>\n",
       "      <td>1989.0</td>\n",
       "      <td>1995.0</td>\n",
       "      <td>2002.0</td>\n",
       "      <td>68.0</td>\n",
       "      <td>25.941176</td>\n",
       "      <td>...</td>\n",
       "      <td>117.0</td>\n",
       "      <td>243.0</td>\n",
       "      <td>101.0</td>\n",
       "      <td>2.283689</td>\n",
       "      <td>2.193990</td>\n",
       "      <td>0.141093</td>\n",
       "      <td>0.599647</td>\n",
       "      <td>1.234568</td>\n",
       "      <td>4.126984</td>\n",
       "      <td>8.571429</td>\n",
       "    </tr>\n",
       "  </tbody>\n",
       "</table>\n",
       "<p>3 rows × 32 columns</p>\n",
       "</div>"
      ],
      "text/plain": [
       "                 year                                                         \\\n",
       "                count         mean       std     min     25%     50%     75%   \n",
       "sex                                                                            \n",
       "F             15690.0  1990.644997  7.598725  1977.0  1984.0  1990.0  1997.0   \n",
       "M             17348.0  1990.480401  7.403655  1977.0  1984.0  1990.0  1997.0   \n",
       "not reported   1748.0  1989.310069  6.800870  1977.0  1984.0  1989.0  1995.0   \n",
       "\n",
       "                     hindfoot_length             ... weight        weight_oz  \\\n",
       "                 max           count       mean  ...    75%    max     count   \n",
       "sex                                              ...                           \n",
       "F             2002.0         14894.0  28.836780  ...   46.0  274.0   15303.0   \n",
       "M             2002.0         16476.0  29.709578  ...   49.0  280.0   16879.0   \n",
       "not reported  2002.0            68.0  25.941176  ...  117.0  243.0     101.0   \n",
       "\n",
       "                                                                          \\\n",
       "                  mean       std       min       25%       50%       75%   \n",
       "sex                                                                        \n",
       "F             1.487498  1.299752  0.141093  0.705467  1.199295  1.622575   \n",
       "M             1.516592  1.276366  0.141093  0.705467  1.375661  1.728395   \n",
       "not reported  2.283689  2.193990  0.141093  0.599647  1.234568  4.126984   \n",
       "\n",
       "                        \n",
       "                   max  \n",
       "sex                     \n",
       "F             9.664903  \n",
       "M             9.876543  \n",
       "not reported  8.571429  \n",
       "\n",
       "[3 rows x 32 columns]"
      ]
     },
     "execution_count": 80,
     "metadata": {},
     "output_type": "execute_result"
    }
   ],
   "source": [
    "# summary stats for all columns by taxa\n",
    "grouped_data.describe()"
   ]
  },
  {
   "cell_type": "markdown",
   "metadata": {},
   "source": [
    "This output only summarizes quantitative variables \n",
    "(the names listed in the first line of the output, e.g., `age_at_diagnosis`).\n",
    "The subtitles in the output (e.g., `count`, `mean`, etc)\n",
    "represent the summary statistics for each variable, \n",
    "grouped by sex (in the row labels).\n",
    "\n",
    "Only a subset of the output is included above;\n",
    "the ellipsis (`...`) in the middle of the dataset indicate it's been truncated.\n",
    "You can extract only the data for a single column:"
   ]
  },
  {
   "cell_type": "code",
   "execution_count": 81,
   "metadata": {},
   "outputs": [
    {
     "data": {
      "text/html": [
       "<div>\n",
       "<style scoped>\n",
       "    .dataframe tbody tr th:only-of-type {\n",
       "        vertical-align: middle;\n",
       "    }\n",
       "\n",
       "    .dataframe tbody tr th {\n",
       "        vertical-align: top;\n",
       "    }\n",
       "\n",
       "    .dataframe thead th {\n",
       "        text-align: right;\n",
       "    }\n",
       "</style>\n",
       "<table border=\"1\" class=\"dataframe\">\n",
       "  <thead>\n",
       "    <tr style=\"text-align: right;\">\n",
       "      <th></th>\n",
       "      <th>count</th>\n",
       "      <th>mean</th>\n",
       "      <th>std</th>\n",
       "      <th>min</th>\n",
       "      <th>25%</th>\n",
       "      <th>50%</th>\n",
       "      <th>75%</th>\n",
       "      <th>max</th>\n",
       "    </tr>\n",
       "    <tr>\n",
       "      <th>sex</th>\n",
       "      <th></th>\n",
       "      <th></th>\n",
       "      <th></th>\n",
       "      <th></th>\n",
       "      <th></th>\n",
       "      <th></th>\n",
       "      <th></th>\n",
       "      <th></th>\n",
       "    </tr>\n",
       "  </thead>\n",
       "  <tbody>\n",
       "    <tr>\n",
       "      <th>F</th>\n",
       "      <td>15303.0</td>\n",
       "      <td>42.170555</td>\n",
       "      <td>36.847958</td>\n",
       "      <td>4.0</td>\n",
       "      <td>20.0</td>\n",
       "      <td>34.0</td>\n",
       "      <td>46.0</td>\n",
       "      <td>274.0</td>\n",
       "    </tr>\n",
       "    <tr>\n",
       "      <th>M</th>\n",
       "      <td>16879.0</td>\n",
       "      <td>42.995379</td>\n",
       "      <td>36.184981</td>\n",
       "      <td>4.0</td>\n",
       "      <td>20.0</td>\n",
       "      <td>39.0</td>\n",
       "      <td>49.0</td>\n",
       "      <td>280.0</td>\n",
       "    </tr>\n",
       "    <tr>\n",
       "      <th>not reported</th>\n",
       "      <td>101.0</td>\n",
       "      <td>64.742574</td>\n",
       "      <td>62.199623</td>\n",
       "      <td>4.0</td>\n",
       "      <td>17.0</td>\n",
       "      <td>35.0</td>\n",
       "      <td>117.0</td>\n",
       "      <td>243.0</td>\n",
       "    </tr>\n",
       "  </tbody>\n",
       "</table>\n",
       "</div>"
      ],
      "text/plain": [
       "                count       mean        std  min   25%   50%    75%    max\n",
       "sex                                                                       \n",
       "F             15303.0  42.170555  36.847958  4.0  20.0  34.0   46.0  274.0\n",
       "M             16879.0  42.995379  36.184981  4.0  20.0  39.0   49.0  280.0\n",
       "not reported    101.0  64.742574  62.199623  4.0  17.0  35.0  117.0  243.0"
      ]
     },
     "execution_count": 81,
     "metadata": {},
     "output_type": "execute_result"
    }
   ],
   "source": [
    "# summary stats for weight for only one column (weight)\n",
    "grouped_data.weight.describe()"
   ]
  },
  {
   "cell_type": "markdown",
   "metadata": {},
   "source": [
    "In addition to these basic summary statistics for quantitative variables,\n",
    "we can also assess how missing data affects the data available for each category.\n",
    "We obtain this information by counting the nuber of data points for each category from our grouped data:"
   ]
  },
  {
   "cell_type": "code",
   "execution_count": 82,
   "metadata": {},
   "outputs": [
    {
     "data": {
      "text/html": [
       "<div>\n",
       "<style scoped>\n",
       "    .dataframe tbody tr th:only-of-type {\n",
       "        vertical-align: middle;\n",
       "    }\n",
       "\n",
       "    .dataframe tbody tr th {\n",
       "        vertical-align: top;\n",
       "    }\n",
       "\n",
       "    .dataframe thead th {\n",
       "        text-align: right;\n",
       "    }\n",
       "</style>\n",
       "<table border=\"1\" class=\"dataframe\">\n",
       "  <thead>\n",
       "    <tr style=\"text-align: right;\">\n",
       "      <th></th>\n",
       "      <th>year</th>\n",
       "      <th>hindfoot_length</th>\n",
       "      <th>weight</th>\n",
       "      <th>genus</th>\n",
       "      <th>species</th>\n",
       "      <th>taxa</th>\n",
       "      <th>plot_type</th>\n",
       "      <th>weight_oz</th>\n",
       "    </tr>\n",
       "    <tr>\n",
       "      <th>sex</th>\n",
       "      <th></th>\n",
       "      <th></th>\n",
       "      <th></th>\n",
       "      <th></th>\n",
       "      <th></th>\n",
       "      <th></th>\n",
       "      <th></th>\n",
       "      <th></th>\n",
       "    </tr>\n",
       "  </thead>\n",
       "  <tbody>\n",
       "    <tr>\n",
       "      <th>F</th>\n",
       "      <td>15690</td>\n",
       "      <td>14894</td>\n",
       "      <td>15303</td>\n",
       "      <td>15690</td>\n",
       "      <td>15690</td>\n",
       "      <td>15690</td>\n",
       "      <td>15690</td>\n",
       "      <td>15303</td>\n",
       "    </tr>\n",
       "    <tr>\n",
       "      <th>M</th>\n",
       "      <td>17348</td>\n",
       "      <td>16476</td>\n",
       "      <td>16879</td>\n",
       "      <td>17348</td>\n",
       "      <td>17348</td>\n",
       "      <td>17348</td>\n",
       "      <td>17348</td>\n",
       "      <td>16879</td>\n",
       "    </tr>\n",
       "    <tr>\n",
       "      <th>not reported</th>\n",
       "      <td>1748</td>\n",
       "      <td>68</td>\n",
       "      <td>101</td>\n",
       "      <td>1748</td>\n",
       "      <td>1748</td>\n",
       "      <td>1748</td>\n",
       "      <td>1748</td>\n",
       "      <td>101</td>\n",
       "    </tr>\n",
       "  </tbody>\n",
       "</table>\n",
       "</div>"
      ],
      "text/plain": [
       "               year  hindfoot_length  weight  genus  species   taxa  \\\n",
       "sex                                                                   \n",
       "F             15690            14894   15303  15690    15690  15690   \n",
       "M             17348            16476   16879  17348    17348  17348   \n",
       "not reported   1748               68     101   1748     1748   1748   \n",
       "\n",
       "              plot_type  weight_oz  \n",
       "sex                                 \n",
       "F                 15690      15303  \n",
       "M                 17348      16879  \n",
       "not reported       1748        101  "
      ]
     },
     "execution_count": 82,
     "metadata": {},
     "output_type": "execute_result"
    }
   ],
   "source": [
    "# show the number of samples of each taxa available for each column \n",
    "grouped_data.count()"
   ]
  },
  {
   "cell_type": "markdown",
   "metadata": {},
   "source": [
    "From the output above,\n",
    "we can also extract the data for only one column.\n",
    "This lets us know how many cases for each sex category are in our dataset:"
   ]
  },
  {
   "cell_type": "code",
   "execution_count": 83,
   "metadata": {},
   "outputs": [
    {
     "data": {
      "text/plain": [
       "sex\n",
       "F               15303\n",
       "M               16879\n",
       "not reported      101\n",
       "Name: weight, dtype: int64"
      ]
     },
     "execution_count": 83,
     "metadata": {},
     "output_type": "execute_result"
    }
   ],
   "source": [
    "# counts for only weight\n",
    "grouped_data.weight.count()"
   ]
  },
  {
   "cell_type": "markdown",
   "metadata": {},
   "source": [
    "It's useful to compare the output from a different column, \n",
    "which allows us to understand how missing data affects our ability to\n",
    "perform statistics tests:"
   ]
  },
  {
   "cell_type": "code",
   "execution_count": 84,
   "metadata": {},
   "outputs": [
    {
     "data": {
      "text/plain": [
       "sex\n",
       "F               14894\n",
       "M               16476\n",
       "not reported       68\n",
       "Name: hindfoot_length, dtype: int64"
      ]
     },
     "execution_count": 84,
     "metadata": {},
     "output_type": "execute_result"
    }
   ],
   "source": [
    "# count the number of each sex for which hindfoot length is available\n",
    "grouped_data.hindfoot_length.count()"
   ]
  },
  {
   "cell_type": "markdown",
   "metadata": {},
   "source": [
    "In this case, we see that missing data for hindfoot length only slightly decreases the number of observations available in each category.\n",
    "\n",
    "Moreover, we can extract a single sex category from the output above:"
   ]
  },
  {
   "cell_type": "code",
   "execution_count": 85,
   "metadata": {},
   "outputs": [
    {
     "data": {
      "text/plain": [
       "16476"
      ]
     },
     "execution_count": 85,
     "metadata": {},
     "output_type": "execute_result"
    }
   ],
   "source": [
    "# only display one sex (M), from hindfood_length grouped by sex\n",
    "grouped_data.hindfoot_length.count().M"
   ]
  },
  {
   "cell_type": "markdown",
   "metadata": {},
   "source": [
    "This is an example of how you can use various pieces of Python syntax\n",
    "to ask increasingly specific questions of the data.\n",
    "\n",
    "It's useful to remember that the command above is synonymous with:"
   ]
  },
  {
   "cell_type": "code",
   "execution_count": 86,
   "metadata": {},
   "outputs": [
    {
     "data": {
      "text/plain": [
       "16476"
      ]
     },
     "execution_count": 86,
     "metadata": {},
     "output_type": "execute_result"
    }
   ],
   "source": [
    "# another way: only display one sex (M), from hindfoot_length grouped by sex\n",
    "animal_df.groupby(\"sex\")[\"hindfoot_length\"].count()[\"M\"]"
   ]
  },
  {
   "cell_type": "markdown",
   "metadata": {},
   "source": [
    "This command differs from the previous example because \n",
    "it begins by grouping the original data object (`animal_df`),\n",
    "and applies alternative syntax for identifying columns.\n",
    "\n",
    "Once you've identified the specific reformatting of data that you need,\n",
    "you may want to assign the output to a new object:"
   ]
  },
  {
   "cell_type": "code",
   "execution_count": 87,
   "metadata": {},
   "outputs": [
    {
     "name": "stdout",
     "output_type": "stream",
     "text": [
      "sex\n",
      "F               14894\n",
      "M               16476\n",
      "not reported       68\n",
      "Name: hindfoot_length, dtype: int64\n"
     ]
    }
   ],
   "source": [
    "# save output to object for later use\n",
    "sex_counts = grouped_data.hindfoot_length.count()\n",
    "print(sex_counts)"
   ]
  },
  {
   "cell_type": "markdown",
   "metadata": {},
   "source": [
    "> #### Exercise: group\n",
    "Find the min and max hindfoot length fo each species in the data set\n",
    "\n",
    "> #### Exercise: subgroup\n",
    "Find the number of kangaroo rats in this data set (`genus` equals `'Dipodomys'`). Try to do this once using `len()` and once using `count()`.\n",
    "\n",
    "> #### Exercise: double group\n",
    "Write code that will display the number of kangaroo rats in this data set split by sex. Try to do this once using subsetting and once by grouping by two variables.\n",
    "\n",
    "> #### Exercise: group max\n",
    "Find the heaviest animal observed in each year  \n",
    "(Hint: you probably want to use `idxmax` at some point)"
   ]
  },
  {
   "cell_type": "markdown",
   "metadata": {},
   "source": [
    "## Missing data\n",
    "\n",
    "The final section in this lesson will help you compare a few ways to handle missing data across a data frame.\n",
    "\n",
    "We can use `isnull` to show us where missing data are found in the dataset:"
   ]
  },
  {
   "cell_type": "code",
   "execution_count": 88,
   "metadata": {},
   "outputs": [
    {
     "data": {
      "text/html": [
       "<div>\n",
       "<style scoped>\n",
       "    .dataframe tbody tr th:only-of-type {\n",
       "        vertical-align: middle;\n",
       "    }\n",
       "\n",
       "    .dataframe tbody tr th {\n",
       "        vertical-align: top;\n",
       "    }\n",
       "\n",
       "    .dataframe thead th {\n",
       "        text-align: right;\n",
       "    }\n",
       "</style>\n",
       "<table border=\"1\" class=\"dataframe\">\n",
       "  <thead>\n",
       "    <tr style=\"text-align: right;\">\n",
       "      <th></th>\n",
       "      <th>year</th>\n",
       "      <th>sex</th>\n",
       "      <th>hindfoot_length</th>\n",
       "      <th>weight</th>\n",
       "      <th>genus</th>\n",
       "      <th>species</th>\n",
       "      <th>taxa</th>\n",
       "      <th>plot_type</th>\n",
       "      <th>weight_oz</th>\n",
       "    </tr>\n",
       "  </thead>\n",
       "  <tbody>\n",
       "    <tr>\n",
       "      <th>0</th>\n",
       "      <td>False</td>\n",
       "      <td>False</td>\n",
       "      <td>False</td>\n",
       "      <td>False</td>\n",
       "      <td>False</td>\n",
       "      <td>False</td>\n",
       "      <td>False</td>\n",
       "      <td>False</td>\n",
       "      <td>False</td>\n",
       "    </tr>\n",
       "    <tr>\n",
       "      <th>1</th>\n",
       "      <td>False</td>\n",
       "      <td>False</td>\n",
       "      <td>True</td>\n",
       "      <td>True</td>\n",
       "      <td>False</td>\n",
       "      <td>False</td>\n",
       "      <td>False</td>\n",
       "      <td>False</td>\n",
       "      <td>True</td>\n",
       "    </tr>\n",
       "    <tr>\n",
       "      <th>2</th>\n",
       "      <td>False</td>\n",
       "      <td>False</td>\n",
       "      <td>False</td>\n",
       "      <td>False</td>\n",
       "      <td>False</td>\n",
       "      <td>False</td>\n",
       "      <td>False</td>\n",
       "      <td>False</td>\n",
       "      <td>False</td>\n",
       "    </tr>\n",
       "    <tr>\n",
       "      <th>3</th>\n",
       "      <td>False</td>\n",
       "      <td>False</td>\n",
       "      <td>False</td>\n",
       "      <td>False</td>\n",
       "      <td>False</td>\n",
       "      <td>False</td>\n",
       "      <td>False</td>\n",
       "      <td>False</td>\n",
       "      <td>False</td>\n",
       "    </tr>\n",
       "    <tr>\n",
       "      <th>4</th>\n",
       "      <td>False</td>\n",
       "      <td>False</td>\n",
       "      <td>False</td>\n",
       "      <td>False</td>\n",
       "      <td>False</td>\n",
       "      <td>False</td>\n",
       "      <td>False</td>\n",
       "      <td>False</td>\n",
       "      <td>False</td>\n",
       "    </tr>\n",
       "  </tbody>\n",
       "</table>\n",
       "</div>"
      ],
      "text/plain": [
       "    year    sex  hindfoot_length  weight  genus  species   taxa  plot_type  \\\n",
       "0  False  False            False   False  False    False  False      False   \n",
       "1  False  False             True    True  False    False  False      False   \n",
       "2  False  False            False   False  False    False  False      False   \n",
       "3  False  False            False   False  False    False  False      False   \n",
       "4  False  False            False   False  False    False  False      False   \n",
       "\n",
       "   weight_oz  \n",
       "0      False  \n",
       "1       True  \n",
       "2      False  \n",
       "3      False  \n",
       "4      False  "
      ]
     },
     "execution_count": 88,
     "metadata": {},
     "output_type": "execute_result"
    }
   ],
   "source": [
    "# test if value is missing\n",
    "pd.isnull(animal_df).head()"
   ]
  },
  {
   "cell_type": "markdown",
   "metadata": {},
   "source": [
    "Any field showing `True` represents a cell with missing data\n",
    "(missing data in the original data frame are shown as `NaN`).\n",
    "\n",
    "The effects of these missing data include multiple complications later in analysis,\n",
    "including code errors and misinterpreting statistical output.\n",
    "One basic example of this occurs from attempting to change the data type in year of birth \n",
    "(from float to integer)\n",
    "\n",
    "`animal_df.weight = animal_df.weight.astype(\"int64\")`\n",
    "\n",
    "That code would result in a `ValueError`:\n",
    "    \n",
    "`ValueError: Cannot convert non-finite values (NA or inf) to integer`\n",
    "\n",
    "This means `NA` values are prohibiting data conversion for this column.\n",
    "\n",
    "If we used `dropna` to remove all rows with missing data,\n",
    "and then use `len` to assess how many rows are remaining:"
   ]
  },
  {
   "cell_type": "code",
   "execution_count": 89,
   "metadata": {},
   "outputs": [
    {
     "data": {
      "text/plain": [
       "30738"
      ]
     },
     "execution_count": 89,
     "metadata": {},
     "output_type": "execute_result"
    }
   ],
   "source": [
    "# extract all rows WITHOUT missing data\n",
    "len(animal_df.dropna())"
   ]
  },
  {
   "cell_type": "code",
   "execution_count": 90,
   "metadata": {},
   "outputs": [
    {
     "data": {
      "text/plain": [
       "34786"
      ]
     },
     "execution_count": 90,
     "metadata": {},
     "output_type": "execute_result"
    }
   ],
   "source": [
    "# length of original data\n",
    "len(animal_df)"
   ]
  },
  {
   "cell_type": "markdown",
   "metadata": {},
   "source": [
    "This leaves us with 30676 of our original 34786 samples.\n",
    "\n",
    "We'll explore two methods for handling missing data that allow us to retain the specific data we need.\n",
    "\n",
    "### Replacing data in copied data frame\n",
    "\n",
    "The first approach to handling missing data is to copy the existing data frame and then replacing missing data.\n",
    "\n",
    "Unlike the case we saw above with `weight_kg` and `weight_lb`, if you assign a dataframe to a new variable, it isn't copied by default. You need to apply the `copy()` method to create another data frame."
   ]
  },
  {
   "cell_type": "code",
   "execution_count": 91,
   "metadata": {},
   "outputs": [],
   "source": [
    "# create new copy of data frame\n",
    "animal_copy = animal_df.copy()"
   ]
  },
  {
   "cell_type": "markdown",
   "metadata": {},
   "source": [
    "Then we can use `pandas` functions to replace `NaN` with a different value. Replacing missing values is known as \"imputation\", and there are many approaches. A simple one is to use the average value (mean or median):"
   ]
  },
  {
   "cell_type": "code",
   "execution_count": 92,
   "metadata": {},
   "outputs": [],
   "source": [
    "# replace missing values with mean\n",
    "mean_weight = animal_df.weight.mean()\n",
    "animal_copy.weight = animal_copy.weight.fillna(mean_weight)"
   ]
  },
  {
   "cell_type": "markdown",
   "metadata": {},
   "source": [
    "This approach allows us to retain all observations in the original data frame,\n",
    "and is one method sometimes used (for example, in machine learning)\n",
    "to retain as much data as possible.\n",
    "\n",
    "However, this approach does alter the statistical properties of the remaining data. For example, the variance of the data will be deflated misleadingly.\n",
    "\n",
    "More complex approaches exist, including trying to predict the missing data using the available data, and adding noise to better reflect the variance. A full treatment is beyond the scope of this tutorial, but feel free to swing by ACER Data Science Office Hours if you want to discuss more."
   ]
  },
  {
   "cell_type": "markdown",
   "metadata": {},
   "source": [
    "### Masking missing data\n",
    "\n",
    "The second approach to handling missing data is masking,\n",
    "where we exclude observations where measurements are missing.\n",
    "We'll explore a few approaches to masking.\n",
    "\n",
    "The first dataset we'll create has missing data removed for weight.\n",
    "\n",
    "> Because masking doesn't involve modifying the original data,\n",
    "only filtering out whole rows and columns,\n",
    "we don't need to copy a new object.\n",
    "\n",
    "We can use `dropna` with the `subset` argument to exclude \n",
    "missing values for only one column:"
   ]
  },
  {
   "cell_type": "code",
   "execution_count": 93,
   "metadata": {},
   "outputs": [],
   "source": [
    "# exclude missing data in only weight\n",
    "weight_complete = animal_df.dropna(subset = [\"weight\"])"
   ]
  },
  {
   "cell_type": "markdown",
   "metadata": {},
   "source": [
    "We assigned this to a new variable so we can continue with our filters.\n",
    "\n",
    "It's also possible to use `isnull` to subset data,\n",
    "though we don't do so here:\n",
    "\n",
    "`animal_df[-pd.isnull(animal_df.weight)]`"
   ]
  },
  {
   "cell_type": "markdown",
   "metadata": {},
   "source": [
    "Once we are satisfied with our filtering,\n",
    "we may want to retain our data for later.\n",
    "This could be so we can load it into another program,\n",
    "or share with another collaborator,\n",
    "both of which require us to access the data outside our notebook.\n",
    "\n",
    "We can save our filtered data frame as spreadsheet-style data to a csv file:"
   ]
  },
  {
   "cell_type": "code",
   "execution_count": 94,
   "metadata": {},
   "outputs": [],
   "source": [
    "# save filtered data to file\n",
    "weight_complete.to_csv(\"data/weight_complete.csv\", index=False)"
   ]
  },
  {
   "cell_type": "markdown",
   "metadata": {},
   "source": [
    "The `index=False` argument prevents the row's index values from being printed before the first column.\n",
    "\n",
    "You can see the new file in your project directory (in the data subfolder).\n",
    "\n",
    "Now, we'll move on and use our masking skills to create a different dataframe."
   ]
  },
  {
   "cell_type": "markdown",
   "metadata": {},
   "source": [
    "> #### Exercise: filter\n",
    "Mask (filter out) missing data from `animals_df` for `sex`, `hindfoot_length`, and `weight`. (Hint: check to see what categories exist for the column `sex`).\n",
    "\n",
    "There are several ways to approach the exercise above.\n",
    "First, you might try to use `dropna` to remove multiple columns:"
   ]
  },
  {
   "cell_type": "code",
   "execution_count": 95,
   "metadata": {},
   "outputs": [],
   "source": [
    "# Drop NaN\n",
    "animals_reduced = animal_df.dropna(subset = [\"sex\", \"hindfoot_length\", \"weight\"])"
   ]
  },
  {
   "cell_type": "markdown",
   "metadata": {},
   "source": [
    "While this executes without a problem, \n",
    "you can check to see what categories are present in `sex`:"
   ]
  },
  {
   "cell_type": "code",
   "execution_count": 96,
   "metadata": {},
   "outputs": [
    {
     "data": {
      "text/plain": [
       "array(['F', 'M', 'not reported'], dtype=object)"
      ]
     },
     "execution_count": 96,
     "metadata": {},
     "output_type": "execute_result"
    }
   ],
   "source": [
    "# show categories\n",
    "pd.unique(animals_reduced.sex)"
   ]
  },
  {
   "cell_type": "markdown",
   "metadata": {},
   "source": [
    "This reveals there are some missing data encoded in a category called `not reported`.\n",
    "This means we need to add an additional filter to remove that category:"
   ]
  },
  {
   "cell_type": "code",
   "execution_count": 97,
   "metadata": {},
   "outputs": [],
   "source": [
    "# remove missing values that aren't NaN\n",
    "animals_reduced = animals_reduced[animals_reduced.sex != \"not reported\"]"
   ]
  },
  {
   "cell_type": "markdown",
   "metadata": {},
   "source": [
    "We can check to see that it worked:"
   ]
  },
  {
   "cell_type": "code",
   "execution_count": 98,
   "metadata": {},
   "outputs": [
    {
     "data": {
      "text/plain": [
       "array(['F', 'M'], dtype=object)"
      ]
     },
     "execution_count": 98,
     "metadata": {},
     "output_type": "execute_result"
    }
   ],
   "source": [
    "pd.unique(animals_reduced.sex)"
   ]
  },
  {
   "cell_type": "markdown",
   "metadata": {},
   "source": [
    "There is one remaining manipulation we'll cover with our `animals_reduces` dataset.\n",
    "\n",
    "We have many different species in this dataset, \n",
    "but we would like to retain only those species with a large number of samples collected.\n",
    "We can apply a filter on this criteria,\n",
    "but will need to start by counting how many samples for each species exist in our dataset:"
   ]
  },
  {
   "cell_type": "code",
   "execution_count": 99,
   "metadata": {},
   "outputs": [
    {
     "data": {
      "text/plain": [
       "species\n",
       "albigula        1045\n",
       "baileyi         2803\n",
       "eremicus        1198\n",
       "flavus          1469\n",
       "fulvescens        73\n",
       "fulviventer       38\n",
       "hispidus         159\n",
       "intermedius        7\n",
       "leucogaster      905\n",
       "leucopus          35\n",
       "maniculatus      835\n",
       "megalotis       2417\n",
       "merriami        9727\n",
       "montanus           8\n",
       "ochrognathus      40\n",
       "ordii           2790\n",
       "penicillatus    2969\n",
       "sp.                9\n",
       "spectabilis     2023\n",
       "taylori           45\n",
       "torridus        2081\n",
       "Name: species, dtype: int64"
      ]
     },
     "execution_count": 99,
     "metadata": {},
     "output_type": "execute_result"
    }
   ],
   "source": [
    "# count number of samples for each species\n",
    "species_counts = animals_reduced.groupby(\"species\").species.count()\n",
    "species_counts"
   ]
  },
  {
   "cell_type": "markdown",
   "metadata": {},
   "source": [
    "Because we've used `groupby`,\n",
    "we'll need to reset the index values so our `species_counts` object is properly formatted:"
   ]
  },
  {
   "cell_type": "code",
   "execution_count": 100,
   "metadata": {},
   "outputs": [
    {
     "data": {
      "text/html": [
       "<div>\n",
       "<style scoped>\n",
       "    .dataframe tbody tr th:only-of-type {\n",
       "        vertical-align: middle;\n",
       "    }\n",
       "\n",
       "    .dataframe tbody tr th {\n",
       "        vertical-align: top;\n",
       "    }\n",
       "\n",
       "    .dataframe thead th {\n",
       "        text-align: right;\n",
       "    }\n",
       "</style>\n",
       "<table border=\"1\" class=\"dataframe\">\n",
       "  <thead>\n",
       "    <tr style=\"text-align: right;\">\n",
       "      <th></th>\n",
       "      <th>species</th>\n",
       "      <th>counts</th>\n",
       "    </tr>\n",
       "  </thead>\n",
       "  <tbody>\n",
       "    <tr>\n",
       "      <th>0</th>\n",
       "      <td>albigula</td>\n",
       "      <td>1045</td>\n",
       "    </tr>\n",
       "    <tr>\n",
       "      <th>1</th>\n",
       "      <td>baileyi</td>\n",
       "      <td>2803</td>\n",
       "    </tr>\n",
       "    <tr>\n",
       "      <th>2</th>\n",
       "      <td>eremicus</td>\n",
       "      <td>1198</td>\n",
       "    </tr>\n",
       "    <tr>\n",
       "      <th>3</th>\n",
       "      <td>flavus</td>\n",
       "      <td>1469</td>\n",
       "    </tr>\n",
       "    <tr>\n",
       "      <th>4</th>\n",
       "      <td>fulvescens</td>\n",
       "      <td>73</td>\n",
       "    </tr>\n",
       "    <tr>\n",
       "      <th>5</th>\n",
       "      <td>fulviventer</td>\n",
       "      <td>38</td>\n",
       "    </tr>\n",
       "    <tr>\n",
       "      <th>6</th>\n",
       "      <td>hispidus</td>\n",
       "      <td>159</td>\n",
       "    </tr>\n",
       "    <tr>\n",
       "      <th>7</th>\n",
       "      <td>intermedius</td>\n",
       "      <td>7</td>\n",
       "    </tr>\n",
       "    <tr>\n",
       "      <th>8</th>\n",
       "      <td>leucogaster</td>\n",
       "      <td>905</td>\n",
       "    </tr>\n",
       "    <tr>\n",
       "      <th>9</th>\n",
       "      <td>leucopus</td>\n",
       "      <td>35</td>\n",
       "    </tr>\n",
       "    <tr>\n",
       "      <th>10</th>\n",
       "      <td>maniculatus</td>\n",
       "      <td>835</td>\n",
       "    </tr>\n",
       "    <tr>\n",
       "      <th>11</th>\n",
       "      <td>megalotis</td>\n",
       "      <td>2417</td>\n",
       "    </tr>\n",
       "    <tr>\n",
       "      <th>12</th>\n",
       "      <td>merriami</td>\n",
       "      <td>9727</td>\n",
       "    </tr>\n",
       "    <tr>\n",
       "      <th>13</th>\n",
       "      <td>montanus</td>\n",
       "      <td>8</td>\n",
       "    </tr>\n",
       "    <tr>\n",
       "      <th>14</th>\n",
       "      <td>ochrognathus</td>\n",
       "      <td>40</td>\n",
       "    </tr>\n",
       "    <tr>\n",
       "      <th>15</th>\n",
       "      <td>ordii</td>\n",
       "      <td>2790</td>\n",
       "    </tr>\n",
       "    <tr>\n",
       "      <th>16</th>\n",
       "      <td>penicillatus</td>\n",
       "      <td>2969</td>\n",
       "    </tr>\n",
       "    <tr>\n",
       "      <th>17</th>\n",
       "      <td>sp.</td>\n",
       "      <td>9</td>\n",
       "    </tr>\n",
       "    <tr>\n",
       "      <th>18</th>\n",
       "      <td>spectabilis</td>\n",
       "      <td>2023</td>\n",
       "    </tr>\n",
       "    <tr>\n",
       "      <th>19</th>\n",
       "      <td>taylori</td>\n",
       "      <td>45</td>\n",
       "    </tr>\n",
       "    <tr>\n",
       "      <th>20</th>\n",
       "      <td>torridus</td>\n",
       "      <td>2081</td>\n",
       "    </tr>\n",
       "  </tbody>\n",
       "</table>\n",
       "</div>"
      ],
      "text/plain": [
       "         species  counts\n",
       "0       albigula    1045\n",
       "1        baileyi    2803\n",
       "2       eremicus    1198\n",
       "3         flavus    1469\n",
       "4     fulvescens      73\n",
       "5    fulviventer      38\n",
       "6       hispidus     159\n",
       "7    intermedius       7\n",
       "8    leucogaster     905\n",
       "9       leucopus      35\n",
       "10   maniculatus     835\n",
       "11     megalotis    2417\n",
       "12      merriami    9727\n",
       "13      montanus       8\n",
       "14  ochrognathus      40\n",
       "15         ordii    2790\n",
       "16  penicillatus    2969\n",
       "17           sp.       9\n",
       "18   spectabilis    2023\n",
       "19       taylori      45\n",
       "20      torridus    2081"
      ]
     },
     "execution_count": 100,
     "metadata": {},
     "output_type": "execute_result"
    }
   ],
   "source": [
    "# reset index to default\n",
    "species_counts = species_counts.reset_index(name=\"counts\")\n",
    "species_counts"
   ]
  },
  {
   "cell_type": "markdown",
   "metadata": {},
   "source": [
    "Next, we can filter the new object so it only includes species with many cases:"
   ]
  },
  {
   "cell_type": "code",
   "execution_count": 101,
   "metadata": {},
   "outputs": [
    {
     "data": {
      "text/html": [
       "<div>\n",
       "<style scoped>\n",
       "    .dataframe tbody tr th:only-of-type {\n",
       "        vertical-align: middle;\n",
       "    }\n",
       "\n",
       "    .dataframe tbody tr th {\n",
       "        vertical-align: top;\n",
       "    }\n",
       "\n",
       "    .dataframe thead th {\n",
       "        text-align: right;\n",
       "    }\n",
       "</style>\n",
       "<table border=\"1\" class=\"dataframe\">\n",
       "  <thead>\n",
       "    <tr style=\"text-align: right;\">\n",
       "      <th></th>\n",
       "      <th>species</th>\n",
       "      <th>counts</th>\n",
       "    </tr>\n",
       "  </thead>\n",
       "  <tbody>\n",
       "    <tr>\n",
       "      <th>0</th>\n",
       "      <td>albigula</td>\n",
       "      <td>1045</td>\n",
       "    </tr>\n",
       "    <tr>\n",
       "      <th>1</th>\n",
       "      <td>baileyi</td>\n",
       "      <td>2803</td>\n",
       "    </tr>\n",
       "    <tr>\n",
       "      <th>2</th>\n",
       "      <td>eremicus</td>\n",
       "      <td>1198</td>\n",
       "    </tr>\n",
       "    <tr>\n",
       "      <th>3</th>\n",
       "      <td>flavus</td>\n",
       "      <td>1469</td>\n",
       "    </tr>\n",
       "    <tr>\n",
       "      <th>8</th>\n",
       "      <td>leucogaster</td>\n",
       "      <td>905</td>\n",
       "    </tr>\n",
       "    <tr>\n",
       "      <th>10</th>\n",
       "      <td>maniculatus</td>\n",
       "      <td>835</td>\n",
       "    </tr>\n",
       "    <tr>\n",
       "      <th>11</th>\n",
       "      <td>megalotis</td>\n",
       "      <td>2417</td>\n",
       "    </tr>\n",
       "    <tr>\n",
       "      <th>12</th>\n",
       "      <td>merriami</td>\n",
       "      <td>9727</td>\n",
       "    </tr>\n",
       "    <tr>\n",
       "      <th>15</th>\n",
       "      <td>ordii</td>\n",
       "      <td>2790</td>\n",
       "    </tr>\n",
       "    <tr>\n",
       "      <th>16</th>\n",
       "      <td>penicillatus</td>\n",
       "      <td>2969</td>\n",
       "    </tr>\n",
       "    <tr>\n",
       "      <th>18</th>\n",
       "      <td>spectabilis</td>\n",
       "      <td>2023</td>\n",
       "    </tr>\n",
       "    <tr>\n",
       "      <th>20</th>\n",
       "      <td>torridus</td>\n",
       "      <td>2081</td>\n",
       "    </tr>\n",
       "  </tbody>\n",
       "</table>\n",
       "</div>"
      ],
      "text/plain": [
       "         species  counts\n",
       "0       albigula    1045\n",
       "1        baileyi    2803\n",
       "2       eremicus    1198\n",
       "3         flavus    1469\n",
       "8    leucogaster     905\n",
       "10   maniculatus     835\n",
       "11     megalotis    2417\n",
       "12      merriami    9727\n",
       "15         ordii    2790\n",
       "16  penicillatus    2969\n",
       "18   spectabilis    2023\n",
       "20      torridus    2081"
      ]
     },
     "execution_count": 101,
     "metadata": {},
     "output_type": "execute_result"
    }
   ],
   "source": [
    "# keep only species with many observations\n",
    "frequent_species = species_counts[species_counts.counts > 500]\n",
    "frequent_species"
   ]
  },
  {
   "cell_type": "markdown",
   "metadata": {},
   "source": [
    "Now that we have a collection of species to keep,\n",
    "we can apply another filter to keep only species appearing in `frequent_species`:"
   ]
  },
  {
   "cell_type": "code",
   "execution_count": 102,
   "metadata": {},
   "outputs": [
    {
     "data": {
      "text/html": [
       "<div>\n",
       "<style scoped>\n",
       "    .dataframe tbody tr th:only-of-type {\n",
       "        vertical-align: middle;\n",
       "    }\n",
       "\n",
       "    .dataframe tbody tr th {\n",
       "        vertical-align: top;\n",
       "    }\n",
       "\n",
       "    .dataframe thead th {\n",
       "        text-align: right;\n",
       "    }\n",
       "</style>\n",
       "<table border=\"1\" class=\"dataframe\">\n",
       "  <thead>\n",
       "    <tr style=\"text-align: right;\">\n",
       "      <th></th>\n",
       "      <th>year</th>\n",
       "      <th>sex</th>\n",
       "      <th>hindfoot_length</th>\n",
       "      <th>weight</th>\n",
       "      <th>genus</th>\n",
       "      <th>species</th>\n",
       "      <th>taxa</th>\n",
       "      <th>plot_type</th>\n",
       "      <th>weight_oz</th>\n",
       "    </tr>\n",
       "  </thead>\n",
       "  <tbody>\n",
       "    <tr>\n",
       "      <th>0</th>\n",
       "      <td>1983</td>\n",
       "      <td>F</td>\n",
       "      <td>19.0</td>\n",
       "      <td>28.0</td>\n",
       "      <td>Onychomys</td>\n",
       "      <td>torridus</td>\n",
       "      <td>Rodent</td>\n",
       "      <td>Long-term Krat Exclosure</td>\n",
       "      <td>0.987654</td>\n",
       "    </tr>\n",
       "    <tr>\n",
       "      <th>2</th>\n",
       "      <td>1987</td>\n",
       "      <td>F</td>\n",
       "      <td>32.0</td>\n",
       "      <td>162.0</td>\n",
       "      <td>Neotoma</td>\n",
       "      <td>albigula</td>\n",
       "      <td>Rodent</td>\n",
       "      <td>Control</td>\n",
       "      <td>5.714286</td>\n",
       "    </tr>\n",
       "    <tr>\n",
       "      <th>3</th>\n",
       "      <td>1995</td>\n",
       "      <td>M</td>\n",
       "      <td>36.0</td>\n",
       "      <td>44.0</td>\n",
       "      <td>Dipodomys</td>\n",
       "      <td>merriami</td>\n",
       "      <td>Rodent</td>\n",
       "      <td>Control</td>\n",
       "      <td>1.552028</td>\n",
       "    </tr>\n",
       "    <tr>\n",
       "      <th>4</th>\n",
       "      <td>2002</td>\n",
       "      <td>F</td>\n",
       "      <td>23.0</td>\n",
       "      <td>15.0</td>\n",
       "      <td>Chaetodipus</td>\n",
       "      <td>penicillatus</td>\n",
       "      <td>Rodent</td>\n",
       "      <td>Spectab exclosure</td>\n",
       "      <td>0.529101</td>\n",
       "    </tr>\n",
       "    <tr>\n",
       "      <th>5</th>\n",
       "      <td>2002</td>\n",
       "      <td>F</td>\n",
       "      <td>22.0</td>\n",
       "      <td>18.0</td>\n",
       "      <td>Chaetodipus</td>\n",
       "      <td>penicillatus</td>\n",
       "      <td>Rodent</td>\n",
       "      <td>Spectab exclosure</td>\n",
       "      <td>0.634921</td>\n",
       "    </tr>\n",
       "  </tbody>\n",
       "</table>\n",
       "</div>"
      ],
      "text/plain": [
       "   year sex  hindfoot_length  weight        genus       species    taxa  \\\n",
       "0  1983   F             19.0    28.0    Onychomys      torridus  Rodent   \n",
       "2  1987   F             32.0   162.0      Neotoma      albigula  Rodent   \n",
       "3  1995   M             36.0    44.0    Dipodomys      merriami  Rodent   \n",
       "4  2002   F             23.0    15.0  Chaetodipus  penicillatus  Rodent   \n",
       "5  2002   F             22.0    18.0  Chaetodipus  penicillatus  Rodent   \n",
       "\n",
       "                  plot_type  weight_oz  \n",
       "0  Long-term Krat Exclosure   0.987654  \n",
       "2                   Control   5.714286  \n",
       "3                   Control   1.552028  \n",
       "4         Spectab exclosure   0.529101  \n",
       "5         Spectab exclosure   0.634921  "
      ]
     },
     "execution_count": 102,
     "metadata": {},
     "output_type": "execute_result"
    }
   ],
   "source": [
    "# extract values for frequently occurring species\n",
    "animals_reduced = animals_reduced[animals_reduced[\"species\"].isin(frequent_species.species)]\n",
    "animals_reduced.head()"
   ]
  },
  {
   "cell_type": "markdown",
   "metadata": {},
   "source": [
    "This compares the species values in `weight_complete` to those in `frequent_species`,\n",
    "keeping only the types that occur in the latter.\n",
    "\n",
    "Finally, we can also write these data to a file:"
   ]
  },
  {
   "cell_type": "code",
   "execution_count": 103,
   "metadata": {},
   "outputs": [],
   "source": [
    "# write data to csv\n",
    "animals_reduced.to_csv(\"data/animals_reduced.csv\", index=False)"
   ]
  },
  {
   "cell_type": "markdown",
   "metadata": {},
   "source": [
    "> #### Exercise: tally, filter, and save\n",
    "Extract only rows for genera (genuses) that are observed at least 1000 times, and save it to a file called \"genera_reduced.csv\""
   ]
  },
  {
   "cell_type": "markdown",
   "metadata": {},
   "source": [
    "# Plotting Data"
   ]
  },
  {
   "cell_type": "code",
   "execution_count": null,
   "metadata": {},
   "outputs": [],
   "source": [
    "import matplotlib.pyplot as plt"
   ]
  },
  {
   "cell_type": "code",
   "execution_count": null,
   "metadata": {},
   "outputs": [],
   "source": [
    "# when plotting we probably want to do some transformation to get the plot we want\n",
    "\n",
    "# Drop NaN\n",
    "animals_reduced = animal_df.dropna(subset = [\"sex\", \"hindfoot_length\", \"weight\"])\n",
    "\n",
    "# remove missing values that aren't NaN\n",
    "animals_reduced = animals_reduced[animals_reduced.sex != \"not reported\"]\n",
    "\n",
    "# group by species and count\n",
    "species_counts = animals_reduced.groupby(\"species\").species.count()\n",
    "\n",
    "# rename count index\n",
    "species_counts = species_counts.reset_index(name=\"counts\")\n",
    "\n",
    "\n",
    "plt.plot(species_counts.species, species_counts.counts)\n",
    "plt.xlabel('x label')\n",
    "plt.ylabel('y label')\n",
    "plt.title(\"Simple Plot\")\n",
    "plt.legend();\n",
    "\n"
   ]
  },
  {
   "cell_type": "code",
   "execution_count": null,
   "metadata": {},
   "outputs": [],
   "source": [
    "#improvements\n",
    "\n",
    "# keep only species with many observations\n",
    "frequent_species = species_counts[species_counts.counts > 500]\n",
    "frequent_species\n",
    "\n",
    "\n",
    "plt.bar(frequent_species.species, frequent_species.counts)\n",
    "plt.xlabel('x label')\n",
    "plt.ylabel('y label')\n",
    "plt.title(\"Simple Plot\")\n",
    "plt.legend();\n",
    "plt.xticks(rotation=45, ha=\"right\")"
   ]
  }
 ],
 "metadata": {
  "anaconda-cloud": {},
  "kernelspec": {
   "display_name": "Python 3 (ipykernel)",
   "language": "python",
   "name": "python3"
  },
  "language_info": {
   "codemirror_mode": {
    "name": "ipython",
    "version": 3
   },
   "file_extension": ".py",
   "mimetype": "text/x-python",
   "name": "python",
   "nbconvert_exporter": "python",
   "pygments_lexer": "ipython3",
   "version": "3.7.4"
  }
 },
 "nbformat": 4,
 "nbformat_minor": 4
}
